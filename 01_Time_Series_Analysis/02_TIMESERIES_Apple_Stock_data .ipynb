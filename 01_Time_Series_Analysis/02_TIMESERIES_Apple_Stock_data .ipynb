{
 "cells": [
  {
   "cell_type": "markdown",
   "metadata": {},
   "source": [
    "# TIME SERIES ANALYSIS"
   ]
  },
  {
   "cell_type": "code",
   "execution_count": 47,
   "metadata": {},
   "outputs": [],
   "source": [
    "import pandas as pd"
   ]
  },
  {
   "cell_type": "code",
   "execution_count": 89,
   "metadata": {},
   "outputs": [
    {
     "data": {
      "text/html": [
       "<div>\n",
       "<style scoped>\n",
       "    .dataframe tbody tr th:only-of-type {\n",
       "        vertical-align: middle;\n",
       "    }\n",
       "\n",
       "    .dataframe tbody tr th {\n",
       "        vertical-align: top;\n",
       "    }\n",
       "\n",
       "    .dataframe thead th {\n",
       "        text-align: right;\n",
       "    }\n",
       "</style>\n",
       "<table border=\"1\" class=\"dataframe\">\n",
       "  <thead>\n",
       "    <tr style=\"text-align: right;\">\n",
       "      <th></th>\n",
       "      <th>Date</th>\n",
       "      <th>Close/Last</th>\n",
       "      <th>Volume</th>\n",
       "      <th>Open</th>\n",
       "      <th>High</th>\n",
       "      <th>Low</th>\n",
       "    </tr>\n",
       "  </thead>\n",
       "  <tbody>\n",
       "    <tr>\n",
       "      <th>0</th>\n",
       "      <td>11-03-2020</td>\n",
       "      <td>$110.44</td>\n",
       "      <td>107624400</td>\n",
       "      <td>$109.66</td>\n",
       "      <td>$111.49</td>\n",
       "      <td>$108.73</td>\n",
       "    </tr>\n",
       "    <tr>\n",
       "      <th>1</th>\n",
       "      <td>11-02-2020</td>\n",
       "      <td>$108.77</td>\n",
       "      <td>122866900</td>\n",
       "      <td>$109.11</td>\n",
       "      <td>$110.68</td>\n",
       "      <td>$107.32</td>\n",
       "    </tr>\n",
       "    <tr>\n",
       "      <th>2</th>\n",
       "      <td>10/30/2020</td>\n",
       "      <td>$108.86</td>\n",
       "      <td>190573500</td>\n",
       "      <td>$111.06</td>\n",
       "      <td>$111.99</td>\n",
       "      <td>$107.72</td>\n",
       "    </tr>\n",
       "    <tr>\n",
       "      <th>3</th>\n",
       "      <td>10/29/2020</td>\n",
       "      <td>$115.32</td>\n",
       "      <td>146129200</td>\n",
       "      <td>$112.37</td>\n",
       "      <td>$116.93</td>\n",
       "      <td>$112.2</td>\n",
       "    </tr>\n",
       "    <tr>\n",
       "      <th>4</th>\n",
       "      <td>10/28/2020</td>\n",
       "      <td>$111.2</td>\n",
       "      <td>143937800</td>\n",
       "      <td>$115.05</td>\n",
       "      <td>$115.43</td>\n",
       "      <td>$111.1</td>\n",
       "    </tr>\n",
       "  </tbody>\n",
       "</table>\n",
       "</div>"
      ],
      "text/plain": [
       "         Date  Close/Last     Volume      Open      High       Low\n",
       "0  11-03-2020     $110.44  107624400   $109.66   $111.49   $108.73\n",
       "1  11-02-2020     $108.77  122866900   $109.11   $110.68   $107.32\n",
       "2  10/30/2020     $108.86  190573500   $111.06   $111.99   $107.72\n",
       "3  10/29/2020     $115.32  146129200   $112.37   $116.93    $112.2\n",
       "4  10/28/2020      $111.2  143937800   $115.05   $115.43    $111.1"
      ]
     },
     "execution_count": 89,
     "metadata": {},
     "output_type": "execute_result"
    }
   ],
   "source": [
    "df= pd.read_csv(\"applestock_data.csv\")\n",
    "df.head()"
   ]
  },
  {
   "cell_type": "code",
   "execution_count": 90,
   "metadata": {},
   "outputs": [
    {
     "data": {
      "text/html": [
       "<div>\n",
       "<style scoped>\n",
       "    .dataframe tbody tr th:only-of-type {\n",
       "        vertical-align: middle;\n",
       "    }\n",
       "\n",
       "    .dataframe tbody tr th {\n",
       "        vertical-align: top;\n",
       "    }\n",
       "\n",
       "    .dataframe thead th {\n",
       "        text-align: right;\n",
       "    }\n",
       "</style>\n",
       "<table border=\"1\" class=\"dataframe\">\n",
       "  <thead>\n",
       "    <tr style=\"text-align: right;\">\n",
       "      <th></th>\n",
       "      <th>Date</th>\n",
       "      <th>Close/Last</th>\n",
       "      <th>Volume</th>\n",
       "      <th>Open</th>\n",
       "      <th>High</th>\n",
       "      <th>Low</th>\n",
       "    </tr>\n",
       "  </thead>\n",
       "  <tbody>\n",
       "    <tr>\n",
       "      <th>0</th>\n",
       "      <td>11-03-2020</td>\n",
       "      <td>$110.44</td>\n",
       "      <td>107624400</td>\n",
       "      <td>$109.66</td>\n",
       "      <td>$111.49</td>\n",
       "      <td>$108.73</td>\n",
       "    </tr>\n",
       "    <tr>\n",
       "      <th>1</th>\n",
       "      <td>11-02-2020</td>\n",
       "      <td>$108.77</td>\n",
       "      <td>122866900</td>\n",
       "      <td>$109.11</td>\n",
       "      <td>$110.68</td>\n",
       "      <td>$107.32</td>\n",
       "    </tr>\n",
       "    <tr>\n",
       "      <th>2</th>\n",
       "      <td>10/30/2020</td>\n",
       "      <td>$108.86</td>\n",
       "      <td>190573500</td>\n",
       "      <td>$111.06</td>\n",
       "      <td>$111.99</td>\n",
       "      <td>$107.72</td>\n",
       "    </tr>\n",
       "    <tr>\n",
       "      <th>3</th>\n",
       "      <td>10/29/2020</td>\n",
       "      <td>$115.32</td>\n",
       "      <td>146129200</td>\n",
       "      <td>$112.37</td>\n",
       "      <td>$116.93</td>\n",
       "      <td>$112.2</td>\n",
       "    </tr>\n",
       "    <tr>\n",
       "      <th>4</th>\n",
       "      <td>10/28/2020</td>\n",
       "      <td>$111.2</td>\n",
       "      <td>143937800</td>\n",
       "      <td>$115.05</td>\n",
       "      <td>$115.43</td>\n",
       "      <td>$111.1</td>\n",
       "    </tr>\n",
       "  </tbody>\n",
       "</table>\n",
       "</div>"
      ],
      "text/plain": [
       "         Date  Close/Last     Volume      Open      High       Low\n",
       "0  11-03-2020     $110.44  107624400   $109.66   $111.49   $108.73\n",
       "1  11-02-2020     $108.77  122866900   $109.11   $110.68   $107.32\n",
       "2  10/30/2020     $108.86  190573500   $111.06   $111.99   $107.72\n",
       "3  10/29/2020     $115.32  146129200   $112.37   $116.93    $112.2\n",
       "4  10/28/2020      $111.2  143937800   $115.05   $115.43    $111.1"
      ]
     },
     "execution_count": 90,
     "metadata": {},
     "output_type": "execute_result"
    }
   ],
   "source": [
    "df.head()"
   ]
  },
  {
   "cell_type": "code",
   "execution_count": 91,
   "metadata": {},
   "outputs": [],
   "source": [
    "df[\"Date\"]=pd.to_datetime(df[\"Date\"])"
   ]
  },
  {
   "cell_type": "code",
   "execution_count": 92,
   "metadata": {},
   "outputs": [
    {
     "data": {
      "text/plain": [
       "array([' $110.44', ' $108.77', ' $108.86', ..., ' $30.265', ' $30.23',\n",
       "       ' $30.5'], dtype=object)"
      ]
     },
     "execution_count": 92,
     "metadata": {},
     "output_type": "execute_result"
    }
   ],
   "source": [
    "df[' Close/Last'].unique()"
   ]
  },
  {
   "cell_type": "code",
   "execution_count": 93,
   "metadata": {},
   "outputs": [
    {
     "data": {
      "text/plain": [
       "Index(['Date', ' Close/Last', ' Volume', ' Open', ' High', ' Low'], dtype='object')"
      ]
     },
     "execution_count": 93,
     "metadata": {},
     "output_type": "execute_result"
    }
   ],
   "source": [
    "df.columns"
   ]
  },
  {
   "cell_type": "code",
   "execution_count": 94,
   "metadata": {},
   "outputs": [],
   "source": [
    "df[' Close/Last']=df[' Close/Last'].apply(lambda x : float(x.replace(\" $\",\"\")))"
   ]
  },
  {
   "cell_type": "code",
   "execution_count": 59,
   "metadata": {},
   "outputs": [],
   "source": [
    "df[' Open']=[i.replace(\" $\",\"\") for i in df[' Open']]"
   ]
  },
  {
   "cell_type": "code",
   "execution_count": 61,
   "metadata": {},
   "outputs": [
    {
     "name": "stderr",
     "output_type": "stream",
     "text": [
      "C:\\Users\\teach\\AppData\\Local\\Temp\\ipykernel_9572\\1161025351.py:2: SettingWithCopyWarning: \n",
      "A value is trying to be set on a copy of a slice from a DataFrame\n",
      "\n",
      "See the caveats in the documentation: https://pandas.pydata.org/pandas-docs/stable/user_guide/indexing.html#returning-a-view-versus-a-copy\n",
      "  df[\" High\"][i]=j.replace(\" $\",\"\")\n"
     ]
    }
   ],
   "source": [
    "for i,j in enumerate(df[\" High\"]):\n",
    "    df[\" High\"][i]=j.replace(\" $\",\"\")"
   ]
  },
  {
   "cell_type": "code",
   "execution_count": 67,
   "metadata": {},
   "outputs": [
    {
     "data": {
      "text/plain": [
       "'108.73'"
      ]
     },
     "execution_count": 67,
     "metadata": {},
     "output_type": "execute_result"
    }
   ],
   "source": [
    "df[\" Low\"][0][2:]"
   ]
  },
  {
   "cell_type": "code",
   "execution_count": 74,
   "metadata": {},
   "outputs": [],
   "source": [
    "val=[]\n",
    "def conversion(x):\n",
    "    for i in x:\n",
    "        val.append(i[2:])\n",
    "    return val\n",
    "        \n",
    "    "
   ]
  },
  {
   "cell_type": "code",
   "execution_count": 75,
   "metadata": {},
   "outputs": [],
   "source": [
    "a=conversion(df[\" Low\"])"
   ]
  },
  {
   "cell_type": "code",
   "execution_count": 79,
   "metadata": {},
   "outputs": [
    {
     "data": {
      "text/plain": [
       "1259"
      ]
     },
     "execution_count": 79,
     "metadata": {},
     "output_type": "execute_result"
    }
   ],
   "source": [
    "len(a)"
   ]
  },
  {
   "cell_type": "code",
   "execution_count": 80,
   "metadata": {},
   "outputs": [],
   "source": [
    "df[\" Low\"]=a"
   ]
  },
  {
   "cell_type": "code",
   "execution_count": 84,
   "metadata": {},
   "outputs": [],
   "source": [
    "df.columns=[\"date\",\"close_price\",\"volume\",\"open_price\",\"high\",\"low\"]"
   ]
  },
  {
   "cell_type": "code",
   "execution_count": null,
   "metadata": {},
   "outputs": [],
   "source": [
    "df[\"close_price\"]=df[\"close_price\"].astype(\"float\")\n",
    "df[\"open_price\"]=df[\"open_price\"].astype(\"float\")"
   ]
  },
  {
   "cell_type": "code",
   "execution_count": 87,
   "metadata": {},
   "outputs": [],
   "source": [
    "for i in df[[\"close_price\",\"open_price\",\"high\",\"low\"]]:\n",
    "    df[i]=df[i].astype(\"float\")"
   ]
  },
  {
   "cell_type": "code",
   "execution_count": 88,
   "metadata": {},
   "outputs": [
    {
     "name": "stdout",
     "output_type": "stream",
     "text": [
      "<class 'pandas.core.frame.DataFrame'>\n",
      "RangeIndex: 1259 entries, 0 to 1258\n",
      "Data columns (total 6 columns):\n",
      " #   Column       Non-Null Count  Dtype         \n",
      "---  ------       --------------  -----         \n",
      " 0   date         1259 non-null   datetime64[ns]\n",
      " 1   close_price  1259 non-null   float64       \n",
      " 2   volume       1259 non-null   int64         \n",
      " 3   open_price   1259 non-null   float64       \n",
      " 4   high         1259 non-null   float64       \n",
      " 5   low          1259 non-null   float64       \n",
      "dtypes: datetime64[ns](1), float64(4), int64(1)\n",
      "memory usage: 59.1 KB\n"
     ]
    }
   ],
   "source": [
    "df.info()"
   ]
  },
  {
   "cell_type": "code",
   "execution_count": null,
   "metadata": {},
   "outputs": [],
   "source": []
  },
  {
   "cell_type": "code",
   "execution_count": null,
   "metadata": {},
   "outputs": [],
   "source": []
  },
  {
   "cell_type": "code",
   "execution_count": null,
   "metadata": {},
   "outputs": [],
   "source": []
  },
  {
   "cell_type": "code",
   "execution_count": null,
   "metadata": {},
   "outputs": [],
   "source": []
  },
  {
   "cell_type": "code",
   "execution_count": null,
   "metadata": {},
   "outputs": [],
   "source": []
  },
  {
   "cell_type": "code",
   "execution_count": null,
   "metadata": {},
   "outputs": [],
   "source": []
  },
  {
   "cell_type": "code",
   "execution_count": 5,
   "metadata": {},
   "outputs": [],
   "source": [
    "df= pd.read_csv(\"applestock_data.csv\",parse_dates=[\"Date\"],index_col=\"Date\")"
   ]
  },
  {
   "cell_type": "code",
   "execution_count": 15,
   "metadata": {},
   "outputs": [
    {
     "data": {
      "text/html": [
       "<div>\n",
       "<style scoped>\n",
       "    .dataframe tbody tr th:only-of-type {\n",
       "        vertical-align: middle;\n",
       "    }\n",
       "\n",
       "    .dataframe tbody tr th {\n",
       "        vertical-align: top;\n",
       "    }\n",
       "\n",
       "    .dataframe thead th {\n",
       "        text-align: right;\n",
       "    }\n",
       "</style>\n",
       "<table border=\"1\" class=\"dataframe\">\n",
       "  <thead>\n",
       "    <tr style=\"text-align: right;\">\n",
       "      <th></th>\n",
       "      <th>Close</th>\n",
       "      <th>Volume</th>\n",
       "      <th>Open</th>\n",
       "      <th>High</th>\n",
       "      <th>Low</th>\n",
       "    </tr>\n",
       "    <tr>\n",
       "      <th>Date</th>\n",
       "      <th></th>\n",
       "      <th></th>\n",
       "      <th></th>\n",
       "      <th></th>\n",
       "      <th></th>\n",
       "    </tr>\n",
       "  </thead>\n",
       "  <tbody>\n",
       "    <tr>\n",
       "      <th>2020-11-03</th>\n",
       "      <td>$110.44</td>\n",
       "      <td>107624400</td>\n",
       "      <td>$109.66</td>\n",
       "      <td>$111.49</td>\n",
       "      <td>$108.73</td>\n",
       "    </tr>\n",
       "    <tr>\n",
       "      <th>2020-11-02</th>\n",
       "      <td>$108.77</td>\n",
       "      <td>122866900</td>\n",
       "      <td>$109.11</td>\n",
       "      <td>$110.68</td>\n",
       "      <td>$107.32</td>\n",
       "    </tr>\n",
       "    <tr>\n",
       "      <th>2020-10-30</th>\n",
       "      <td>$108.86</td>\n",
       "      <td>190573500</td>\n",
       "      <td>$111.06</td>\n",
       "      <td>$111.99</td>\n",
       "      <td>$107.72</td>\n",
       "    </tr>\n",
       "    <tr>\n",
       "      <th>2020-10-29</th>\n",
       "      <td>$115.32</td>\n",
       "      <td>146129200</td>\n",
       "      <td>$112.37</td>\n",
       "      <td>$116.93</td>\n",
       "      <td>$112.2</td>\n",
       "    </tr>\n",
       "    <tr>\n",
       "      <th>2020-10-28</th>\n",
       "      <td>$111.2</td>\n",
       "      <td>143937800</td>\n",
       "      <td>$115.05</td>\n",
       "      <td>$115.43</td>\n",
       "      <td>$111.1</td>\n",
       "    </tr>\n",
       "  </tbody>\n",
       "</table>\n",
       "</div>"
      ],
      "text/plain": [
       "               Close     Volume      Open      High       Low\n",
       "Date                                                         \n",
       "2020-11-03   $110.44  107624400   $109.66   $111.49   $108.73\n",
       "2020-11-02   $108.77  122866900   $109.11   $110.68   $107.32\n",
       "2020-10-30   $108.86  190573500   $111.06   $111.99   $107.72\n",
       "2020-10-29   $115.32  146129200   $112.37   $116.93    $112.2\n",
       "2020-10-28    $111.2  143937800   $115.05   $115.43    $111.1"
      ]
     },
     "execution_count": 15,
     "metadata": {},
     "output_type": "execute_result"
    }
   ],
   "source": [
    "df.head()"
   ]
  },
  {
   "cell_type": "code",
   "execution_count": 9,
   "metadata": {},
   "outputs": [
    {
     "data": {
      "text/plain": [
       "Index([' Close/Last', ' Volume', ' Open', ' High', ' Low'], dtype='object')"
      ]
     },
     "execution_count": 9,
     "metadata": {},
     "output_type": "execute_result"
    }
   ],
   "source": [
    "df.columns"
   ]
  },
  {
   "cell_type": "code",
   "execution_count": 12,
   "metadata": {},
   "outputs": [],
   "source": [
    "df.columns=['Close', 'Volume', 'Open', 'High', 'Low']"
   ]
  },
  {
   "cell_type": "code",
   "execution_count": 13,
   "metadata": {
    "scrolled": true
   },
   "outputs": [
    {
     "data": {
      "text/plain": [
       "Index(['Close', 'Volume', 'Open', 'High', 'Low'], dtype='object')"
      ]
     },
     "execution_count": 13,
     "metadata": {},
     "output_type": "execute_result"
    }
   ],
   "source": [
    "df.columns"
   ]
  },
  {
   "cell_type": "code",
   "execution_count": 14,
   "metadata": {},
   "outputs": [],
   "source": [
    "def remove_dollar(num):\n",
    "    return float(num[2:])"
   ]
  },
  {
   "cell_type": "code",
   "execution_count": 206,
   "metadata": {},
   "outputs": [],
   "source": [
    "for i in df.columns:\n",
    "    if i ==\"Volume\":\n",
    "        pass\n",
    "    else:\n",
    "        df[i]=df[i].apply(remove_dollar)"
   ]
  },
  {
   "cell_type": "code",
   "execution_count": 207,
   "metadata": {
    "scrolled": true
   },
   "outputs": [
    {
     "data": {
      "text/plain": [
       "108.73"
      ]
     },
     "execution_count": 207,
     "metadata": {},
     "output_type": "execute_result"
    }
   ],
   "source": [
    "df.head()\n",
    "df[\"Low\"][0]"
   ]
  },
  {
   "cell_type": "code",
   "execution_count": 208,
   "metadata": {},
   "outputs": [
    {
     "name": "stdout",
     "output_type": "stream",
     "text": [
      "<class 'pandas.core.frame.DataFrame'>\n",
      "DatetimeIndex: 1259 entries, 2020-11-03 to 2015-11-04\n",
      "Data columns (total 5 columns):\n",
      " #   Column  Non-Null Count  Dtype  \n",
      "---  ------  --------------  -----  \n",
      " 0   Close   1259 non-null   float64\n",
      " 1   Volume  1259 non-null   int64  \n",
      " 2   Open    1259 non-null   float64\n",
      " 3   High    1259 non-null   float64\n",
      " 4   Low     1259 non-null   float64\n",
      "dtypes: float64(4), int64(1)\n",
      "memory usage: 99.0 KB\n"
     ]
    }
   ],
   "source": [
    "df.info()"
   ]
  },
  {
   "cell_type": "code",
   "execution_count": 209,
   "metadata": {},
   "outputs": [],
   "source": [
    "for i in df:\n",
    "    df[i]=df[i].astype(\"float\")"
   ]
  },
  {
   "cell_type": "code",
   "execution_count": 75,
   "metadata": {},
   "outputs": [
    {
     "name": "stdout",
     "output_type": "stream",
     "text": [
      "<class 'pandas.core.frame.DataFrame'>\n",
      "DatetimeIndex: 1259 entries, 2020-11-03 to 2015-11-04\n",
      "Data columns (total 5 columns):\n",
      " #   Column  Non-Null Count  Dtype  \n",
      "---  ------  --------------  -----  \n",
      " 0   Close   1259 non-null   float64\n",
      " 1   Volume  1259 non-null   float64\n",
      " 2   Open    1259 non-null   float64\n",
      " 3   High    1259 non-null   float64\n",
      " 4   Low     1259 non-null   float64\n",
      "dtypes: float64(5)\n",
      "memory usage: 59.0 KB\n"
     ]
    }
   ],
   "source": [
    "df.info()"
   ]
  },
  {
   "cell_type": "code",
   "execution_count": 210,
   "metadata": {},
   "outputs": [
    {
     "data": {
      "text/html": [
       "<div>\n",
       "<style scoped>\n",
       "    .dataframe tbody tr th:only-of-type {\n",
       "        vertical-align: middle;\n",
       "    }\n",
       "\n",
       "    .dataframe tbody tr th {\n",
       "        vertical-align: top;\n",
       "    }\n",
       "\n",
       "    .dataframe thead th {\n",
       "        text-align: right;\n",
       "    }\n",
       "</style>\n",
       "<table border=\"1\" class=\"dataframe\">\n",
       "  <thead>\n",
       "    <tr style=\"text-align: right;\">\n",
       "      <th></th>\n",
       "      <th>Close</th>\n",
       "      <th>Volume</th>\n",
       "      <th>Open</th>\n",
       "      <th>High</th>\n",
       "      <th>Low</th>\n",
       "    </tr>\n",
       "    <tr>\n",
       "      <th>Date</th>\n",
       "      <th></th>\n",
       "      <th></th>\n",
       "      <th></th>\n",
       "      <th></th>\n",
       "      <th></th>\n",
       "    </tr>\n",
       "  </thead>\n",
       "  <tbody>\n",
       "    <tr>\n",
       "      <th>2020-11-03</th>\n",
       "      <td>110.44</td>\n",
       "      <td>107624400.0</td>\n",
       "      <td>109.66</td>\n",
       "      <td>111.49</td>\n",
       "      <td>108.73</td>\n",
       "    </tr>\n",
       "    <tr>\n",
       "      <th>2020-11-02</th>\n",
       "      <td>108.77</td>\n",
       "      <td>122866900.0</td>\n",
       "      <td>109.11</td>\n",
       "      <td>110.68</td>\n",
       "      <td>107.32</td>\n",
       "    </tr>\n",
       "    <tr>\n",
       "      <th>2020-10-30</th>\n",
       "      <td>108.86</td>\n",
       "      <td>190573500.0</td>\n",
       "      <td>111.06</td>\n",
       "      <td>111.99</td>\n",
       "      <td>107.72</td>\n",
       "    </tr>\n",
       "    <tr>\n",
       "      <th>2020-10-29</th>\n",
       "      <td>115.32</td>\n",
       "      <td>146129200.0</td>\n",
       "      <td>112.37</td>\n",
       "      <td>116.93</td>\n",
       "      <td>112.20</td>\n",
       "    </tr>\n",
       "    <tr>\n",
       "      <th>2020-10-28</th>\n",
       "      <td>111.20</td>\n",
       "      <td>143937800.0</td>\n",
       "      <td>115.05</td>\n",
       "      <td>115.43</td>\n",
       "      <td>111.10</td>\n",
       "    </tr>\n",
       "  </tbody>\n",
       "</table>\n",
       "</div>"
      ],
      "text/plain": [
       "             Close       Volume    Open    High     Low\n",
       "Date                                                   \n",
       "2020-11-03  110.44  107624400.0  109.66  111.49  108.73\n",
       "2020-11-02  108.77  122866900.0  109.11  110.68  107.32\n",
       "2020-10-30  108.86  190573500.0  111.06  111.99  107.72\n",
       "2020-10-29  115.32  146129200.0  112.37  116.93  112.20\n",
       "2020-10-28  111.20  143937800.0  115.05  115.43  111.10"
      ]
     },
     "execution_count": 210,
     "metadata": {},
     "output_type": "execute_result"
    }
   ],
   "source": [
    "df.head()"
   ]
  },
  {
   "cell_type": "code",
   "execution_count": 211,
   "metadata": {},
   "outputs": [
    {
     "data": {
      "text/plain": [
       "DatetimeIndex(['2020-11-03', '2020-11-02', '2020-10-30', '2020-10-29',\n",
       "               '2020-10-28', '2020-10-27', '2020-10-26', '2020-10-23',\n",
       "               '2020-10-22', '2020-10-21',\n",
       "               ...\n",
       "               '2015-11-17', '2015-11-16', '2015-11-13', '2015-11-12',\n",
       "               '2015-11-11', '2015-11-10', '2015-11-09', '2015-11-06',\n",
       "               '2015-11-05', '2015-11-04'],\n",
       "              dtype='datetime64[ns]', name='Date', length=1259, freq=None)"
      ]
     },
     "execution_count": 211,
     "metadata": {},
     "output_type": "execute_result"
    }
   ],
   "source": [
    "df.index\n"
   ]
  },
  {
   "cell_type": "markdown",
   "metadata": {},
   "source": [
    "# What is DatetimeIndex? Benefits of it\n",
    "\n",
    "(1) Partial Date Index: Select Specific Months Data"
   ]
  },
  {
   "cell_type": "code",
   "execution_count": 212,
   "metadata": {},
   "outputs": [
    {
     "data": {
      "text/html": [
       "<div>\n",
       "<style scoped>\n",
       "    .dataframe tbody tr th:only-of-type {\n",
       "        vertical-align: middle;\n",
       "    }\n",
       "\n",
       "    .dataframe tbody tr th {\n",
       "        vertical-align: top;\n",
       "    }\n",
       "\n",
       "    .dataframe thead th {\n",
       "        text-align: right;\n",
       "    }\n",
       "</style>\n",
       "<table border=\"1\" class=\"dataframe\">\n",
       "  <thead>\n",
       "    <tr style=\"text-align: right;\">\n",
       "      <th></th>\n",
       "      <th>Close</th>\n",
       "      <th>Volume</th>\n",
       "      <th>Open</th>\n",
       "      <th>High</th>\n",
       "      <th>Low</th>\n",
       "    </tr>\n",
       "    <tr>\n",
       "      <th>Date</th>\n",
       "      <th></th>\n",
       "      <th></th>\n",
       "      <th></th>\n",
       "      <th></th>\n",
       "      <th></th>\n",
       "    </tr>\n",
       "  </thead>\n",
       "  <tbody>\n",
       "    <tr>\n",
       "      <th>2020-03-30</th>\n",
       "      <td>63.7025</td>\n",
       "      <td>167976440.0</td>\n",
       "      <td>62.6850</td>\n",
       "      <td>63.8800</td>\n",
       "      <td>62.3500</td>\n",
       "    </tr>\n",
       "    <tr>\n",
       "      <th>2020-03-27</th>\n",
       "      <td>61.9350</td>\n",
       "      <td>204216600.0</td>\n",
       "      <td>63.1875</td>\n",
       "      <td>63.9675</td>\n",
       "      <td>61.7625</td>\n",
       "    </tr>\n",
       "    <tr>\n",
       "      <th>2020-03-26</th>\n",
       "      <td>64.6100</td>\n",
       "      <td>252560680.0</td>\n",
       "      <td>61.6300</td>\n",
       "      <td>64.6700</td>\n",
       "      <td>61.5900</td>\n",
       "    </tr>\n",
       "    <tr>\n",
       "      <th>2020-03-25</th>\n",
       "      <td>61.3800</td>\n",
       "      <td>303602040.0</td>\n",
       "      <td>62.6875</td>\n",
       "      <td>64.5625</td>\n",
       "      <td>61.0750</td>\n",
       "    </tr>\n",
       "    <tr>\n",
       "      <th>2020-03-24</th>\n",
       "      <td>61.7200</td>\n",
       "      <td>287531080.0</td>\n",
       "      <td>59.0900</td>\n",
       "      <td>61.9225</td>\n",
       "      <td>58.5750</td>\n",
       "    </tr>\n",
       "    <tr>\n",
       "      <th>...</th>\n",
       "      <td>...</td>\n",
       "      <td>...</td>\n",
       "      <td>...</td>\n",
       "      <td>...</td>\n",
       "      <td>...</td>\n",
       "    </tr>\n",
       "    <tr>\n",
       "      <th>2015-11-10</th>\n",
       "      <td>29.1925</td>\n",
       "      <td>236117600.0</td>\n",
       "      <td>29.2250</td>\n",
       "      <td>29.5175</td>\n",
       "      <td>29.0153</td>\n",
       "    </tr>\n",
       "    <tr>\n",
       "      <th>2015-11-09</th>\n",
       "      <td>30.1425</td>\n",
       "      <td>135317160.0</td>\n",
       "      <td>30.2400</td>\n",
       "      <td>30.4525</td>\n",
       "      <td>30.0125</td>\n",
       "    </tr>\n",
       "    <tr>\n",
       "      <th>2015-11-06</th>\n",
       "      <td>30.2650</td>\n",
       "      <td>132036440.0</td>\n",
       "      <td>30.2775</td>\n",
       "      <td>30.4525</td>\n",
       "      <td>30.1550</td>\n",
       "    </tr>\n",
       "    <tr>\n",
       "      <th>2015-11-05</th>\n",
       "      <td>30.2300</td>\n",
       "      <td>157933600.0</td>\n",
       "      <td>30.4625</td>\n",
       "      <td>30.6725</td>\n",
       "      <td>30.0450</td>\n",
       "    </tr>\n",
       "    <tr>\n",
       "      <th>2015-11-04</th>\n",
       "      <td>30.5000</td>\n",
       "      <td>179316240.0</td>\n",
       "      <td>30.7825</td>\n",
       "      <td>30.9550</td>\n",
       "      <td>30.4050</td>\n",
       "    </tr>\n",
       "  </tbody>\n",
       "</table>\n",
       "<p>1107 rows × 5 columns</p>\n",
       "</div>"
      ],
      "text/plain": [
       "              Close       Volume     Open     High      Low\n",
       "Date                                                       \n",
       "2020-03-30  63.7025  167976440.0  62.6850  63.8800  62.3500\n",
       "2020-03-27  61.9350  204216600.0  63.1875  63.9675  61.7625\n",
       "2020-03-26  64.6100  252560680.0  61.6300  64.6700  61.5900\n",
       "2020-03-25  61.3800  303602040.0  62.6875  64.5625  61.0750\n",
       "2020-03-24  61.7200  287531080.0  59.0900  61.9225  58.5750\n",
       "...             ...          ...      ...      ...      ...\n",
       "2015-11-10  29.1925  236117600.0  29.2250  29.5175  29.0153\n",
       "2015-11-09  30.1425  135317160.0  30.2400  30.4525  30.0125\n",
       "2015-11-06  30.2650  132036440.0  30.2775  30.4525  30.1550\n",
       "2015-11-05  30.2300  157933600.0  30.4625  30.6725  30.0450\n",
       "2015-11-04  30.5000  179316240.0  30.7825  30.9550  30.4050\n",
       "\n",
       "[1107 rows x 5 columns]"
      ]
     },
     "execution_count": 212,
     "metadata": {},
     "output_type": "execute_result"
    }
   ],
   "source": [
    "df[\"2020-03-30\":]"
   ]
  },
  {
   "cell_type": "code",
   "execution_count": 213,
   "metadata": {},
   "outputs": [
    {
     "data": {
      "text/html": [
       "<div>\n",
       "<style scoped>\n",
       "    .dataframe tbody tr th:only-of-type {\n",
       "        vertical-align: middle;\n",
       "    }\n",
       "\n",
       "    .dataframe tbody tr th {\n",
       "        vertical-align: top;\n",
       "    }\n",
       "\n",
       "    .dataframe thead th {\n",
       "        text-align: right;\n",
       "    }\n",
       "</style>\n",
       "<table border=\"1\" class=\"dataframe\">\n",
       "  <thead>\n",
       "    <tr style=\"text-align: right;\">\n",
       "      <th></th>\n",
       "      <th>Close</th>\n",
       "      <th>Volume</th>\n",
       "      <th>Open</th>\n",
       "      <th>High</th>\n",
       "      <th>Low</th>\n",
       "    </tr>\n",
       "    <tr>\n",
       "      <th>Date</th>\n",
       "      <th></th>\n",
       "      <th></th>\n",
       "      <th></th>\n",
       "      <th></th>\n",
       "      <th></th>\n",
       "    </tr>\n",
       "  </thead>\n",
       "  <tbody>\n",
       "    <tr>\n",
       "      <th>2019-12-31</th>\n",
       "      <td>73.4125</td>\n",
       "      <td>100990520.0</td>\n",
       "      <td>72.4825</td>\n",
       "      <td>73.4200</td>\n",
       "      <td>72.3800</td>\n",
       "    </tr>\n",
       "    <tr>\n",
       "      <th>2019-12-30</th>\n",
       "      <td>72.8800</td>\n",
       "      <td>144238440.0</td>\n",
       "      <td>72.3650</td>\n",
       "      <td>73.1725</td>\n",
       "      <td>71.3050</td>\n",
       "    </tr>\n",
       "    <tr>\n",
       "      <th>2019-12-27</th>\n",
       "      <td>72.4500</td>\n",
       "      <td>146371760.0</td>\n",
       "      <td>72.7800</td>\n",
       "      <td>73.4925</td>\n",
       "      <td>72.0300</td>\n",
       "    </tr>\n",
       "    <tr>\n",
       "      <th>2019-12-26</th>\n",
       "      <td>72.4775</td>\n",
       "      <td>93336000.0</td>\n",
       "      <td>71.2050</td>\n",
       "      <td>72.4950</td>\n",
       "      <td>71.1750</td>\n",
       "    </tr>\n",
       "    <tr>\n",
       "      <th>2019-12-24</th>\n",
       "      <td>71.0675</td>\n",
       "      <td>48478840.0</td>\n",
       "      <td>71.1725</td>\n",
       "      <td>71.2225</td>\n",
       "      <td>70.7299</td>\n",
       "    </tr>\n",
       "    <tr>\n",
       "      <th>...</th>\n",
       "      <td>...</td>\n",
       "      <td>...</td>\n",
       "      <td>...</td>\n",
       "      <td>...</td>\n",
       "      <td>...</td>\n",
       "    </tr>\n",
       "    <tr>\n",
       "      <th>2019-01-08</th>\n",
       "      <td>37.6875</td>\n",
       "      <td>162491640.0</td>\n",
       "      <td>37.3900</td>\n",
       "      <td>37.9550</td>\n",
       "      <td>37.1300</td>\n",
       "    </tr>\n",
       "    <tr>\n",
       "      <th>2019-01-07</th>\n",
       "      <td>36.9825</td>\n",
       "      <td>218285760.0</td>\n",
       "      <td>37.1750</td>\n",
       "      <td>37.2075</td>\n",
       "      <td>36.4750</td>\n",
       "    </tr>\n",
       "    <tr>\n",
       "      <th>2019-01-04</th>\n",
       "      <td>37.0650</td>\n",
       "      <td>229694600.0</td>\n",
       "      <td>36.1325</td>\n",
       "      <td>37.1375</td>\n",
       "      <td>35.9500</td>\n",
       "    </tr>\n",
       "    <tr>\n",
       "      <th>2019-01-03</th>\n",
       "      <td>35.5475</td>\n",
       "      <td>364427360.0</td>\n",
       "      <td>35.9950</td>\n",
       "      <td>36.4300</td>\n",
       "      <td>35.5000</td>\n",
       "    </tr>\n",
       "    <tr>\n",
       "      <th>2019-01-02</th>\n",
       "      <td>39.4800</td>\n",
       "      <td>142548280.0</td>\n",
       "      <td>38.7225</td>\n",
       "      <td>39.7125</td>\n",
       "      <td>38.5575</td>\n",
       "    </tr>\n",
       "  </tbody>\n",
       "</table>\n",
       "<p>252 rows × 5 columns</p>\n",
       "</div>"
      ],
      "text/plain": [
       "              Close       Volume     Open     High      Low\n",
       "Date                                                       \n",
       "2019-12-31  73.4125  100990520.0  72.4825  73.4200  72.3800\n",
       "2019-12-30  72.8800  144238440.0  72.3650  73.1725  71.3050\n",
       "2019-12-27  72.4500  146371760.0  72.7800  73.4925  72.0300\n",
       "2019-12-26  72.4775   93336000.0  71.2050  72.4950  71.1750\n",
       "2019-12-24  71.0675   48478840.0  71.1725  71.2225  70.7299\n",
       "...             ...          ...      ...      ...      ...\n",
       "2019-01-08  37.6875  162491640.0  37.3900  37.9550  37.1300\n",
       "2019-01-07  36.9825  218285760.0  37.1750  37.2075  36.4750\n",
       "2019-01-04  37.0650  229694600.0  36.1325  37.1375  35.9500\n",
       "2019-01-03  35.5475  364427360.0  35.9950  36.4300  35.5000\n",
       "2019-01-02  39.4800  142548280.0  38.7225  39.7125  38.5575\n",
       "\n",
       "[252 rows x 5 columns]"
      ]
     },
     "execution_count": 213,
     "metadata": {},
     "output_type": "execute_result"
    }
   ],
   "source": [
    "df[\"2019\"]"
   ]
  },
  {
   "cell_type": "markdown",
   "metadata": {},
   "source": [
    "# Average price of aapl's stock in June, 2017"
   ]
  },
  {
   "cell_type": "code",
   "execution_count": 124,
   "metadata": {},
   "outputs": [
    {
     "data": {
      "text/plain": [
       "36.9578409090909"
      ]
     },
     "execution_count": 124,
     "metadata": {},
     "output_type": "execute_result"
    }
   ],
   "source": [
    "df[\"2017-06\"].Close.mean()"
   ]
  },
  {
   "cell_type": "code",
   "execution_count": 125,
   "metadata": {},
   "outputs": [
    {
     "data": {
      "text/plain": [
       "46.5725"
      ]
     },
     "execution_count": 125,
     "metadata": {},
     "output_type": "execute_result"
    }
   ],
   "source": [
    "df[\"2018\"][\"Open\"].median()"
   ]
  },
  {
   "cell_type": "markdown",
   "metadata": {},
   "source": [
    "# (2) Select Date Range"
   ]
  },
  {
   "cell_type": "code",
   "execution_count": 126,
   "metadata": {},
   "outputs": [
    {
     "data": {
      "text/html": [
       "<div>\n",
       "<style scoped>\n",
       "    .dataframe tbody tr th:only-of-type {\n",
       "        vertical-align: middle;\n",
       "    }\n",
       "\n",
       "    .dataframe tbody tr th {\n",
       "        vertical-align: top;\n",
       "    }\n",
       "\n",
       "    .dataframe thead th {\n",
       "        text-align: right;\n",
       "    }\n",
       "</style>\n",
       "<table border=\"1\" class=\"dataframe\">\n",
       "  <thead>\n",
       "    <tr style=\"text-align: right;\">\n",
       "      <th></th>\n",
       "      <th>Close</th>\n",
       "      <th>Volume</th>\n",
       "      <th>Open</th>\n",
       "      <th>High</th>\n",
       "      <th>Low</th>\n",
       "    </tr>\n",
       "    <tr>\n",
       "      <th>Date</th>\n",
       "      <th></th>\n",
       "      <th></th>\n",
       "      <th></th>\n",
       "      <th></th>\n",
       "      <th></th>\n",
       "    </tr>\n",
       "  </thead>\n",
       "  <tbody>\n",
       "    <tr>\n",
       "      <th>2020-01-31</th>\n",
       "      <td>77.3775</td>\n",
       "      <td>199588400</td>\n",
       "      <td>80.2325</td>\n",
       "      <td>80.6700</td>\n",
       "      <td>77.0725</td>\n",
       "    </tr>\n",
       "    <tr>\n",
       "      <th>2020-01-30</th>\n",
       "      <td>80.9675</td>\n",
       "      <td>126743240</td>\n",
       "      <td>80.1360</td>\n",
       "      <td>81.0225</td>\n",
       "      <td>79.6875</td>\n",
       "    </tr>\n",
       "    <tr>\n",
       "      <th>2020-01-29</th>\n",
       "      <td>81.0850</td>\n",
       "      <td>216599720</td>\n",
       "      <td>81.1125</td>\n",
       "      <td>81.9625</td>\n",
       "      <td>80.3450</td>\n",
       "    </tr>\n",
       "    <tr>\n",
       "      <th>2020-01-28</th>\n",
       "      <td>79.4225</td>\n",
       "      <td>162233960</td>\n",
       "      <td>78.1500</td>\n",
       "      <td>79.6000</td>\n",
       "      <td>78.0475</td>\n",
       "    </tr>\n",
       "    <tr>\n",
       "      <th>2020-01-27</th>\n",
       "      <td>77.2375</td>\n",
       "      <td>161940040</td>\n",
       "      <td>77.5150</td>\n",
       "      <td>77.9425</td>\n",
       "      <td>76.2200</td>\n",
       "    </tr>\n",
       "    <tr>\n",
       "      <th>...</th>\n",
       "      <td>...</td>\n",
       "      <td>...</td>\n",
       "      <td>...</td>\n",
       "      <td>...</td>\n",
       "      <td>...</td>\n",
       "    </tr>\n",
       "    <tr>\n",
       "      <th>2015-11-10</th>\n",
       "      <td>29.1925</td>\n",
       "      <td>236117600</td>\n",
       "      <td>29.2250</td>\n",
       "      <td>29.5175</td>\n",
       "      <td>29.0153</td>\n",
       "    </tr>\n",
       "    <tr>\n",
       "      <th>2015-11-09</th>\n",
       "      <td>30.1425</td>\n",
       "      <td>135317160</td>\n",
       "      <td>30.2400</td>\n",
       "      <td>30.4525</td>\n",
       "      <td>30.0125</td>\n",
       "    </tr>\n",
       "    <tr>\n",
       "      <th>2015-11-06</th>\n",
       "      <td>30.2650</td>\n",
       "      <td>132036440</td>\n",
       "      <td>30.2775</td>\n",
       "      <td>30.4525</td>\n",
       "      <td>30.1550</td>\n",
       "    </tr>\n",
       "    <tr>\n",
       "      <th>2015-11-05</th>\n",
       "      <td>30.2300</td>\n",
       "      <td>157933600</td>\n",
       "      <td>30.4625</td>\n",
       "      <td>30.6725</td>\n",
       "      <td>30.0450</td>\n",
       "    </tr>\n",
       "    <tr>\n",
       "      <th>2015-11-04</th>\n",
       "      <td>30.5000</td>\n",
       "      <td>179316240</td>\n",
       "      <td>30.7825</td>\n",
       "      <td>30.9550</td>\n",
       "      <td>30.4050</td>\n",
       "    </tr>\n",
       "  </tbody>\n",
       "</table>\n",
       "<p>1067 rows × 5 columns</p>\n",
       "</div>"
      ],
      "text/plain": [
       "              Close     Volume     Open     High      Low\n",
       "Date                                                     \n",
       "2020-01-31  77.3775  199588400  80.2325  80.6700  77.0725\n",
       "2020-01-30  80.9675  126743240  80.1360  81.0225  79.6875\n",
       "2020-01-29  81.0850  216599720  81.1125  81.9625  80.3450\n",
       "2020-01-28  79.4225  162233960  78.1500  79.6000  78.0475\n",
       "2020-01-27  77.2375  161940040  77.5150  77.9425  76.2200\n",
       "...             ...        ...      ...      ...      ...\n",
       "2015-11-10  29.1925  236117600  29.2250  29.5175  29.0153\n",
       "2015-11-09  30.1425  135317160  30.2400  30.4525  30.0125\n",
       "2015-11-06  30.2650  132036440  30.2775  30.4525  30.1550\n",
       "2015-11-05  30.2300  157933600  30.4625  30.6725  30.0450\n",
       "2015-11-04  30.5000  179316240  30.7825  30.9550  30.4050\n",
       "\n",
       "[1067 rows x 5 columns]"
      ]
     },
     "execution_count": 126,
     "metadata": {},
     "output_type": "execute_result"
    }
   ],
   "source": [
    "df[\"2020-01\":]"
   ]
  },
  {
   "cell_type": "code",
   "execution_count": 215,
   "metadata": {},
   "outputs": [
    {
     "data": {
      "text/html": [
       "<div>\n",
       "<style scoped>\n",
       "    .dataframe tbody tr th:only-of-type {\n",
       "        vertical-align: middle;\n",
       "    }\n",
       "\n",
       "    .dataframe tbody tr th {\n",
       "        vertical-align: top;\n",
       "    }\n",
       "\n",
       "    .dataframe thead th {\n",
       "        text-align: right;\n",
       "    }\n",
       "</style>\n",
       "<table border=\"1\" class=\"dataframe\">\n",
       "  <thead>\n",
       "    <tr style=\"text-align: right;\">\n",
       "      <th></th>\n",
       "      <th>Close</th>\n",
       "      <th>Volume</th>\n",
       "      <th>Open</th>\n",
       "      <th>High</th>\n",
       "      <th>Low</th>\n",
       "    </tr>\n",
       "    <tr>\n",
       "      <th>Date</th>\n",
       "      <th></th>\n",
       "      <th></th>\n",
       "      <th></th>\n",
       "      <th></th>\n",
       "      <th></th>\n",
       "    </tr>\n",
       "  </thead>\n",
       "  <tbody>\n",
       "    <tr>\n",
       "      <th>2017-01-11</th>\n",
       "      <td>29.9375</td>\n",
       "      <td>109812520.0</td>\n",
       "      <td>29.6850</td>\n",
       "      <td>29.9825</td>\n",
       "      <td>29.6500</td>\n",
       "    </tr>\n",
       "    <tr>\n",
       "      <th>2017-01-10</th>\n",
       "      <td>29.7775</td>\n",
       "      <td>97730640.0</td>\n",
       "      <td>29.6925</td>\n",
       "      <td>29.8450</td>\n",
       "      <td>29.5750</td>\n",
       "    </tr>\n",
       "    <tr>\n",
       "      <th>2017-01-09</th>\n",
       "      <td>29.7475</td>\n",
       "      <td>133681160.0</td>\n",
       "      <td>29.4875</td>\n",
       "      <td>29.8575</td>\n",
       "      <td>29.4850</td>\n",
       "    </tr>\n",
       "    <tr>\n",
       "      <th>2017-01-06</th>\n",
       "      <td>29.4775</td>\n",
       "      <td>126859280.0</td>\n",
       "      <td>29.1950</td>\n",
       "      <td>29.5400</td>\n",
       "      <td>29.1175</td>\n",
       "    </tr>\n",
       "    <tr>\n",
       "      <th>2017-01-05</th>\n",
       "      <td>29.1525</td>\n",
       "      <td>88460400.0</td>\n",
       "      <td>28.9800</td>\n",
       "      <td>29.2160</td>\n",
       "      <td>28.9525</td>\n",
       "    </tr>\n",
       "    <tr>\n",
       "      <th>2017-01-04</th>\n",
       "      <td>29.0050</td>\n",
       "      <td>84326480.0</td>\n",
       "      <td>28.9625</td>\n",
       "      <td>29.1275</td>\n",
       "      <td>28.9375</td>\n",
       "    </tr>\n",
       "    <tr>\n",
       "      <th>2017-01-03</th>\n",
       "      <td>29.0375</td>\n",
       "      <td>115076880.0</td>\n",
       "      <td>28.9500</td>\n",
       "      <td>29.0825</td>\n",
       "      <td>28.6900</td>\n",
       "    </tr>\n",
       "  </tbody>\n",
       "</table>\n",
       "</div>"
      ],
      "text/plain": [
       "              Close       Volume     Open     High      Low\n",
       "Date                                                       \n",
       "2017-01-11  29.9375  109812520.0  29.6850  29.9825  29.6500\n",
       "2017-01-10  29.7775   97730640.0  29.6925  29.8450  29.5750\n",
       "2017-01-09  29.7475  133681160.0  29.4875  29.8575  29.4850\n",
       "2017-01-06  29.4775  126859280.0  29.1950  29.5400  29.1175\n",
       "2017-01-05  29.1525   88460400.0  28.9800  29.2160  28.9525\n",
       "2017-01-04  29.0050   84326480.0  28.9625  29.1275  28.9375\n",
       "2017-01-03  29.0375  115076880.0  28.9500  29.0825  28.6900"
      ]
     },
     "execution_count": 215,
     "metadata": {},
     "output_type": "execute_result"
    }
   ],
   "source": [
    "a= df['2017-01-11':'2017-01-03']"
   ]
  },
  {
   "cell_type": "code",
   "execution_count": 128,
   "metadata": {},
   "outputs": [
    {
     "data": {
      "text/html": [
       "<div>\n",
       "<style scoped>\n",
       "    .dataframe tbody tr th:only-of-type {\n",
       "        vertical-align: middle;\n",
       "    }\n",
       "\n",
       "    .dataframe tbody tr th {\n",
       "        vertical-align: top;\n",
       "    }\n",
       "\n",
       "    .dataframe thead th {\n",
       "        text-align: right;\n",
       "    }\n",
       "</style>\n",
       "<table border=\"1\" class=\"dataframe\">\n",
       "  <thead>\n",
       "    <tr style=\"text-align: right;\">\n",
       "      <th></th>\n",
       "      <th>Close</th>\n",
       "      <th>Volume</th>\n",
       "      <th>Open</th>\n",
       "      <th>High</th>\n",
       "      <th>Low</th>\n",
       "    </tr>\n",
       "    <tr>\n",
       "      <th>Date</th>\n",
       "      <th></th>\n",
       "      <th></th>\n",
       "      <th></th>\n",
       "      <th></th>\n",
       "      <th></th>\n",
       "    </tr>\n",
       "  </thead>\n",
       "  <tbody>\n",
       "    <tr>\n",
       "      <th>2017-01-31</th>\n",
       "      <td>30.3375</td>\n",
       "      <td>191071040</td>\n",
       "      <td>30.2875</td>\n",
       "      <td>30.3475</td>\n",
       "      <td>30.1550</td>\n",
       "    </tr>\n",
       "    <tr>\n",
       "      <th>2017-01-30</th>\n",
       "      <td>30.4075</td>\n",
       "      <td>121308440</td>\n",
       "      <td>30.2325</td>\n",
       "      <td>30.4075</td>\n",
       "      <td>30.1650</td>\n",
       "    </tr>\n",
       "    <tr>\n",
       "      <th>2017-01-27</th>\n",
       "      <td>30.4875</td>\n",
       "      <td>81981360</td>\n",
       "      <td>30.5350</td>\n",
       "      <td>30.5875</td>\n",
       "      <td>30.4000</td>\n",
       "    </tr>\n",
       "    <tr>\n",
       "      <th>2017-01-26</th>\n",
       "      <td>30.4850</td>\n",
       "      <td>105282960</td>\n",
       "      <td>30.4175</td>\n",
       "      <td>30.6100</td>\n",
       "      <td>30.4000</td>\n",
       "    </tr>\n",
       "    <tr>\n",
       "      <th>2017-01-25</th>\n",
       "      <td>30.4700</td>\n",
       "      <td>129669640</td>\n",
       "      <td>30.1050</td>\n",
       "      <td>30.5250</td>\n",
       "      <td>30.0700</td>\n",
       "    </tr>\n",
       "    <tr>\n",
       "      <th>2017-01-24</th>\n",
       "      <td>29.9925</td>\n",
       "      <td>92764600</td>\n",
       "      <td>29.8875</td>\n",
       "      <td>30.0250</td>\n",
       "      <td>29.8750</td>\n",
       "    </tr>\n",
       "    <tr>\n",
       "      <th>2017-01-23</th>\n",
       "      <td>30.0200</td>\n",
       "      <td>87928000</td>\n",
       "      <td>30.0000</td>\n",
       "      <td>30.2025</td>\n",
       "      <td>29.9425</td>\n",
       "    </tr>\n",
       "    <tr>\n",
       "      <th>2017-01-20</th>\n",
       "      <td>30.0000</td>\n",
       "      <td>119690600</td>\n",
       "      <td>30.1125</td>\n",
       "      <td>30.1125</td>\n",
       "      <td>29.9337</td>\n",
       "    </tr>\n",
       "    <tr>\n",
       "      <th>2017-01-19</th>\n",
       "      <td>29.9450</td>\n",
       "      <td>102217160</td>\n",
       "      <td>29.8500</td>\n",
       "      <td>30.0225</td>\n",
       "      <td>29.8425</td>\n",
       "    </tr>\n",
       "    <tr>\n",
       "      <th>2017-01-18</th>\n",
       "      <td>29.9975</td>\n",
       "      <td>94749400</td>\n",
       "      <td>30.0000</td>\n",
       "      <td>30.1250</td>\n",
       "      <td>29.9275</td>\n",
       "    </tr>\n",
       "    <tr>\n",
       "      <th>2017-01-17</th>\n",
       "      <td>30.0000</td>\n",
       "      <td>137648360</td>\n",
       "      <td>29.5850</td>\n",
       "      <td>30.0600</td>\n",
       "      <td>29.5550</td>\n",
       "    </tr>\n",
       "    <tr>\n",
       "      <th>2017-01-13</th>\n",
       "      <td>29.7600</td>\n",
       "      <td>104332120</td>\n",
       "      <td>29.7775</td>\n",
       "      <td>29.9050</td>\n",
       "      <td>29.7025</td>\n",
       "    </tr>\n",
       "    <tr>\n",
       "      <th>2017-01-12</th>\n",
       "      <td>29.8125</td>\n",
       "      <td>108230200</td>\n",
       "      <td>29.7237</td>\n",
       "      <td>29.8250</td>\n",
       "      <td>29.5525</td>\n",
       "    </tr>\n",
       "    <tr>\n",
       "      <th>2017-01-11</th>\n",
       "      <td>29.9375</td>\n",
       "      <td>109812520</td>\n",
       "      <td>29.6850</td>\n",
       "      <td>29.9825</td>\n",
       "      <td>29.6500</td>\n",
       "    </tr>\n",
       "    <tr>\n",
       "      <th>2017-01-10</th>\n",
       "      <td>29.7775</td>\n",
       "      <td>97730640</td>\n",
       "      <td>29.6925</td>\n",
       "      <td>29.8450</td>\n",
       "      <td>29.5750</td>\n",
       "    </tr>\n",
       "    <tr>\n",
       "      <th>2017-01-09</th>\n",
       "      <td>29.7475</td>\n",
       "      <td>133681160</td>\n",
       "      <td>29.4875</td>\n",
       "      <td>29.8575</td>\n",
       "      <td>29.4850</td>\n",
       "    </tr>\n",
       "    <tr>\n",
       "      <th>2017-01-06</th>\n",
       "      <td>29.4775</td>\n",
       "      <td>126859280</td>\n",
       "      <td>29.1950</td>\n",
       "      <td>29.5400</td>\n",
       "      <td>29.1175</td>\n",
       "    </tr>\n",
       "    <tr>\n",
       "      <th>2017-01-05</th>\n",
       "      <td>29.1525</td>\n",
       "      <td>88460400</td>\n",
       "      <td>28.9800</td>\n",
       "      <td>29.2160</td>\n",
       "      <td>28.9525</td>\n",
       "    </tr>\n",
       "    <tr>\n",
       "      <th>2017-01-04</th>\n",
       "      <td>29.0050</td>\n",
       "      <td>84326480</td>\n",
       "      <td>28.9625</td>\n",
       "      <td>29.1275</td>\n",
       "      <td>28.9375</td>\n",
       "    </tr>\n",
       "    <tr>\n",
       "      <th>2017-01-03</th>\n",
       "      <td>29.0375</td>\n",
       "      <td>115076880</td>\n",
       "      <td>28.9500</td>\n",
       "      <td>29.0825</td>\n",
       "      <td>28.6900</td>\n",
       "    </tr>\n",
       "  </tbody>\n",
       "</table>\n",
       "</div>"
      ],
      "text/plain": [
       "              Close     Volume     Open     High      Low\n",
       "Date                                                     \n",
       "2017-01-31  30.3375  191071040  30.2875  30.3475  30.1550\n",
       "2017-01-30  30.4075  121308440  30.2325  30.4075  30.1650\n",
       "2017-01-27  30.4875   81981360  30.5350  30.5875  30.4000\n",
       "2017-01-26  30.4850  105282960  30.4175  30.6100  30.4000\n",
       "2017-01-25  30.4700  129669640  30.1050  30.5250  30.0700\n",
       "2017-01-24  29.9925   92764600  29.8875  30.0250  29.8750\n",
       "2017-01-23  30.0200   87928000  30.0000  30.2025  29.9425\n",
       "2017-01-20  30.0000  119690600  30.1125  30.1125  29.9337\n",
       "2017-01-19  29.9450  102217160  29.8500  30.0225  29.8425\n",
       "2017-01-18  29.9975   94749400  30.0000  30.1250  29.9275\n",
       "2017-01-17  30.0000  137648360  29.5850  30.0600  29.5550\n",
       "2017-01-13  29.7600  104332120  29.7775  29.9050  29.7025\n",
       "2017-01-12  29.8125  108230200  29.7237  29.8250  29.5525\n",
       "2017-01-11  29.9375  109812520  29.6850  29.9825  29.6500\n",
       "2017-01-10  29.7775   97730640  29.6925  29.8450  29.5750\n",
       "2017-01-09  29.7475  133681160  29.4875  29.8575  29.4850\n",
       "2017-01-06  29.4775  126859280  29.1950  29.5400  29.1175\n",
       "2017-01-05  29.1525   88460400  28.9800  29.2160  28.9525\n",
       "2017-01-04  29.0050   84326480  28.9625  29.1275  28.9375\n",
       "2017-01-03  29.0375  115076880  28.9500  29.0825  28.6900"
      ]
     },
     "execution_count": 128,
     "metadata": {},
     "output_type": "execute_result"
    }
   ],
   "source": [
    "\n",
    "df['2017-01']"
   ]
  },
  {
   "cell_type": "markdown",
   "metadata": {},
   "source": [
    "# DATE_RANGE FUNCTION"
   ]
  },
  {
   "cell_type": "code",
   "execution_count": 16,
   "metadata": {},
   "outputs": [
    {
     "data": {
      "text/html": [
       "<div>\n",
       "<style scoped>\n",
       "    .dataframe tbody tr th:only-of-type {\n",
       "        vertical-align: middle;\n",
       "    }\n",
       "\n",
       "    .dataframe tbody tr th {\n",
       "        vertical-align: top;\n",
       "    }\n",
       "\n",
       "    .dataframe thead th {\n",
       "        text-align: right;\n",
       "    }\n",
       "</style>\n",
       "<table border=\"1\" class=\"dataframe\">\n",
       "  <thead>\n",
       "    <tr style=\"text-align: right;\">\n",
       "      <th></th>\n",
       "      <th>Open</th>\n",
       "      <th>High</th>\n",
       "      <th>Low</th>\n",
       "      <th>Close</th>\n",
       "      <th>Volume</th>\n",
       "    </tr>\n",
       "  </thead>\n",
       "  <tbody>\n",
       "    <tr>\n",
       "      <th>0</th>\n",
       "      <td>153.17</td>\n",
       "      <td>153.33</td>\n",
       "      <td>152.22</td>\n",
       "      <td>153.18</td>\n",
       "      <td>16404088</td>\n",
       "    </tr>\n",
       "    <tr>\n",
       "      <th>1</th>\n",
       "      <td>153.58</td>\n",
       "      <td>155.45</td>\n",
       "      <td>152.89</td>\n",
       "      <td>155.45</td>\n",
       "      <td>27770715</td>\n",
       "    </tr>\n",
       "    <tr>\n",
       "      <th>2</th>\n",
       "      <td>154.34</td>\n",
       "      <td>154.45</td>\n",
       "      <td>153.46</td>\n",
       "      <td>153.93</td>\n",
       "      <td>25331662</td>\n",
       "    </tr>\n",
       "    <tr>\n",
       "      <th>3</th>\n",
       "      <td>153.90</td>\n",
       "      <td>155.81</td>\n",
       "      <td>153.78</td>\n",
       "      <td>154.45</td>\n",
       "      <td>26624926</td>\n",
       "    </tr>\n",
       "    <tr>\n",
       "      <th>4</th>\n",
       "      <td>155.02</td>\n",
       "      <td>155.98</td>\n",
       "      <td>154.48</td>\n",
       "      <td>155.37</td>\n",
       "      <td>21069647</td>\n",
       "    </tr>\n",
       "    <tr>\n",
       "      <th>5</th>\n",
       "      <td>155.25</td>\n",
       "      <td>155.54</td>\n",
       "      <td>154.40</td>\n",
       "      <td>154.99</td>\n",
       "      <td>21250798</td>\n",
       "    </tr>\n",
       "    <tr>\n",
       "      <th>6</th>\n",
       "      <td>155.19</td>\n",
       "      <td>155.19</td>\n",
       "      <td>146.02</td>\n",
       "      <td>148.98</td>\n",
       "      <td>64882657</td>\n",
       "    </tr>\n",
       "    <tr>\n",
       "      <th>7</th>\n",
       "      <td>145.74</td>\n",
       "      <td>146.09</td>\n",
       "      <td>142.51</td>\n",
       "      <td>145.42</td>\n",
       "      <td>72307330</td>\n",
       "    </tr>\n",
       "    <tr>\n",
       "      <th>8</th>\n",
       "      <td>147.16</td>\n",
       "      <td>147.45</td>\n",
       "      <td>145.15</td>\n",
       "      <td>146.59</td>\n",
       "      <td>34165445</td>\n",
       "    </tr>\n",
       "    <tr>\n",
       "      <th>9</th>\n",
       "      <td>147.50</td>\n",
       "      <td>147.50</td>\n",
       "      <td>143.84</td>\n",
       "      <td>145.16</td>\n",
       "      <td>31531232</td>\n",
       "    </tr>\n",
       "    <tr>\n",
       "      <th>10</th>\n",
       "      <td>143.32</td>\n",
       "      <td>144.48</td>\n",
       "      <td>142.21</td>\n",
       "      <td>144.29</td>\n",
       "      <td>32165373</td>\n",
       "    </tr>\n",
       "    <tr>\n",
       "      <th>11</th>\n",
       "      <td>143.78</td>\n",
       "      <td>144.50</td>\n",
       "      <td>142.20</td>\n",
       "      <td>142.27</td>\n",
       "      <td>50361093</td>\n",
       "    </tr>\n",
       "    <tr>\n",
       "      <th>12</th>\n",
       "      <td>143.66</td>\n",
       "      <td>146.74</td>\n",
       "      <td>143.66</td>\n",
       "      <td>146.34</td>\n",
       "      <td>32541404</td>\n",
       "    </tr>\n",
       "    <tr>\n",
       "      <th>13</th>\n",
       "      <td>146.87</td>\n",
       "      <td>146.87</td>\n",
       "      <td>144.94</td>\n",
       "      <td>145.01</td>\n",
       "      <td>24900073</td>\n",
       "    </tr>\n",
       "    <tr>\n",
       "      <th>14</th>\n",
       "      <td>145.52</td>\n",
       "      <td>146.07</td>\n",
       "      <td>144.61</td>\n",
       "      <td>145.87</td>\n",
       "      <td>21265751</td>\n",
       "    </tr>\n",
       "    <tr>\n",
       "      <th>15</th>\n",
       "      <td>145.77</td>\n",
       "      <td>146.70</td>\n",
       "      <td>145.12</td>\n",
       "      <td>145.63</td>\n",
       "      <td>19106294</td>\n",
       "    </tr>\n",
       "    <tr>\n",
       "      <th>16</th>\n",
       "      <td>145.13</td>\n",
       "      <td>147.16</td>\n",
       "      <td>145.11</td>\n",
       "      <td>146.28</td>\n",
       "      <td>35439389</td>\n",
       "    </tr>\n",
       "    <tr>\n",
       "      <th>17</th>\n",
       "      <td>147.17</td>\n",
       "      <td>148.28</td>\n",
       "      <td>145.38</td>\n",
       "      <td>145.82</td>\n",
       "      <td>25692361</td>\n",
       "    </tr>\n",
       "    <tr>\n",
       "      <th>18</th>\n",
       "      <td>145.01</td>\n",
       "      <td>146.16</td>\n",
       "      <td>143.62</td>\n",
       "      <td>143.73</td>\n",
       "      <td>24761891</td>\n",
       "    </tr>\n",
       "    <tr>\n",
       "      <th>19</th>\n",
       "      <td>144.49</td>\n",
       "      <td>146.11</td>\n",
       "      <td>143.16</td>\n",
       "      <td>145.83</td>\n",
       "      <td>22082432</td>\n",
       "    </tr>\n",
       "    <tr>\n",
       "      <th>20</th>\n",
       "      <td>144.71</td>\n",
       "      <td>145.13</td>\n",
       "      <td>142.28</td>\n",
       "      <td>143.68</td>\n",
       "      <td>31499368</td>\n",
       "    </tr>\n",
       "    <tr>\n",
       "      <th>21</th>\n",
       "      <td>144.45</td>\n",
       "      <td>144.96</td>\n",
       "      <td>143.78</td>\n",
       "      <td>144.02</td>\n",
       "      <td>23024107</td>\n",
       "    </tr>\n",
       "  </tbody>\n",
       "</table>\n",
       "</div>"
      ],
      "text/plain": [
       "      Open    High     Low   Close    Volume\n",
       "0   153.17  153.33  152.22  153.18  16404088\n",
       "1   153.58  155.45  152.89  155.45  27770715\n",
       "2   154.34  154.45  153.46  153.93  25331662\n",
       "3   153.90  155.81  153.78  154.45  26624926\n",
       "4   155.02  155.98  154.48  155.37  21069647\n",
       "5   155.25  155.54  154.40  154.99  21250798\n",
       "6   155.19  155.19  146.02  148.98  64882657\n",
       "7   145.74  146.09  142.51  145.42  72307330\n",
       "8   147.16  147.45  145.15  146.59  34165445\n",
       "9   147.50  147.50  143.84  145.16  31531232\n",
       "10  143.32  144.48  142.21  144.29  32165373\n",
       "11  143.78  144.50  142.20  142.27  50361093\n",
       "12  143.66  146.74  143.66  146.34  32541404\n",
       "13  146.87  146.87  144.94  145.01  24900073\n",
       "14  145.52  146.07  144.61  145.87  21265751\n",
       "15  145.77  146.70  145.12  145.63  19106294\n",
       "16  145.13  147.16  145.11  146.28  35439389\n",
       "17  147.17  148.28  145.38  145.82  25692361\n",
       "18  145.01  146.16  143.62  143.73  24761891\n",
       "19  144.49  146.11  143.16  145.83  22082432\n",
       "20  144.71  145.13  142.28  143.68  31499368\n",
       "21  144.45  144.96  143.78  144.02  23024107"
      ]
     },
     "execution_count": 16,
     "metadata": {},
     "output_type": "execute_result"
    }
   ],
   "source": [
    "df=pd.read_csv(\"date_range_data.csv\")\n",
    "df"
   ]
  },
  {
   "cell_type": "code",
   "execution_count": 17,
   "metadata": {},
   "outputs": [
    {
     "data": {
      "text/plain": [
       "DatetimeIndex(['2016-06-01', '2016-06-02', '2016-06-03', '2016-06-06',\n",
       "               '2016-06-07', '2016-06-08', '2016-06-09', '2016-06-10',\n",
       "               '2016-06-13', '2016-06-14', '2016-06-15', '2016-06-16',\n",
       "               '2016-06-17', '2016-06-20', '2016-06-21', '2016-06-22',\n",
       "               '2016-06-23', '2016-06-24', '2016-06-27', '2016-06-28',\n",
       "               '2016-06-29', '2016-06-30'],\n",
       "              dtype='datetime64[ns]', freq='B')"
      ]
     },
     "execution_count": 17,
     "metadata": {},
     "output_type": "execute_result"
    }
   ],
   "source": [
    "rng = pd.date_range(start=\"6/1/2016\",end=\"6/30/2016\",freq='B')\n",
    "rng"
   ]
  },
  {
   "cell_type": "code",
   "execution_count": 18,
   "metadata": {},
   "outputs": [],
   "source": [
    "df.set_index(rng,inplace=True)"
   ]
  },
  {
   "cell_type": "code",
   "execution_count": 19,
   "metadata": {},
   "outputs": [
    {
     "data": {
      "text/plain": [
       "DatetimeIndex(['2016-06-01', '2016-06-02', '2016-06-03', '2016-06-06',\n",
       "               '2016-06-07', '2016-06-08', '2016-06-09', '2016-06-10',\n",
       "               '2016-06-13', '2016-06-14', '2016-06-15', '2016-06-16',\n",
       "               '2016-06-17', '2016-06-20', '2016-06-21', '2016-06-22',\n",
       "               '2016-06-23', '2016-06-24', '2016-06-27', '2016-06-28',\n",
       "               '2016-06-29', '2016-06-30'],\n",
       "              dtype='datetime64[ns]', freq='B')"
      ]
     },
     "execution_count": 19,
     "metadata": {},
     "output_type": "execute_result"
    }
   ],
   "source": [
    "df.index"
   ]
  },
  {
   "cell_type": "markdown",
   "metadata": {},
   "source": [
    "# Finding missing dates from datetimeindex"
   ]
  },
  {
   "cell_type": "code",
   "execution_count": 20,
   "metadata": {},
   "outputs": [
    {
     "data": {
      "text/plain": [
       "DatetimeIndex(['2016-06-01', '2016-06-02', '2016-06-03', '2016-06-04',\n",
       "               '2016-06-05', '2016-06-06', '2016-06-07', '2016-06-08',\n",
       "               '2016-06-09', '2016-06-10', '2016-06-11', '2016-06-12',\n",
       "               '2016-06-13', '2016-06-14', '2016-06-15', '2016-06-16',\n",
       "               '2016-06-17', '2016-06-18', '2016-06-19', '2016-06-20',\n",
       "               '2016-06-21', '2016-06-22', '2016-06-23', '2016-06-24',\n",
       "               '2016-06-25', '2016-06-26', '2016-06-27', '2016-06-28',\n",
       "               '2016-06-29', '2016-06-30'],\n",
       "              dtype='datetime64[ns]', freq='D')"
      ]
     },
     "execution_count": 20,
     "metadata": {},
     "output_type": "execute_result"
    }
   ],
   "source": [
    "daily_index = pd.date_range(start=\"6/1/2016\",end=\"6/30/2016\",freq='D')\n",
    "daily_index"
   ]
  },
  {
   "cell_type": "code",
   "execution_count": 21,
   "metadata": {},
   "outputs": [
    {
     "data": {
      "text/plain": [
       "DatetimeIndex(['2016-06-04', '2016-06-05', '2016-06-11', '2016-06-12',\n",
       "               '2016-06-18', '2016-06-19', '2016-06-25', '2016-06-26'],\n",
       "              dtype='datetime64[ns]', freq=None)"
      ]
     },
     "execution_count": 21,
     "metadata": {},
     "output_type": "execute_result"
    }
   ],
   "source": [
    "daily_index.difference(df.index)"
   ]
  },
  {
   "cell_type": "markdown",
   "metadata": {},
   "source": [
    "# generating DatetimeIndex with periods argument"
   ]
  },
  {
   "cell_type": "code",
   "execution_count": 119,
   "metadata": {},
   "outputs": [
    {
     "data": {
      "text/plain": [
       "DatetimeIndex(['2011-01-01', '2011-01-02', '2011-01-03', '2011-01-04',\n",
       "               '2011-01-05', '2011-01-06', '2011-01-07', '2011-01-08',\n",
       "               '2011-01-09', '2011-01-10', '2011-01-11', '2011-01-12',\n",
       "               '2011-01-13', '2011-01-14', '2011-01-15', '2011-01-16',\n",
       "               '2011-01-17', '2011-01-18', '2011-01-19', '2011-01-20',\n",
       "               '2011-01-21', '2011-01-22', '2011-01-23', '2011-01-24',\n",
       "               '2011-01-25', '2011-01-26', '2011-01-27', '2011-01-28',\n",
       "               '2011-01-29', '2011-01-30', '2011-01-31', '2011-02-01',\n",
       "               '2011-02-02', '2011-02-03', '2011-02-04', '2011-02-05',\n",
       "               '2011-02-06', '2011-02-07', '2011-02-08', '2011-02-09',\n",
       "               '2011-02-10', '2011-02-11', '2011-02-12', '2011-02-13',\n",
       "               '2011-02-14', '2011-02-15', '2011-02-16', '2011-02-17',\n",
       "               '2011-02-18', '2011-02-19', '2011-02-20', '2011-02-21',\n",
       "               '2011-02-22', '2011-02-23', '2011-02-24', '2011-02-25',\n",
       "               '2011-02-26', '2011-02-27', '2011-02-28', '2011-03-01',\n",
       "               '2011-03-02', '2011-03-03', '2011-03-04', '2011-03-05',\n",
       "               '2011-03-06', '2011-03-07', '2011-03-08', '2011-03-09',\n",
       "               '2011-03-10', '2011-03-11', '2011-03-12', '2011-03-13'],\n",
       "              dtype='datetime64[ns]', freq='D')"
      ]
     },
     "execution_count": 119,
     "metadata": {},
     "output_type": "execute_result"
    }
   ],
   "source": [
    "rng = pd.date_range('1/1/2011', periods=72, freq='D')\n",
    "rng"
   ]
  },
  {
   "cell_type": "markdown",
   "metadata": {},
   "source": [
    "# CUSTOMISED HOLIDAYS"
   ]
  },
  {
   "cell_type": "code",
   "execution_count": 22,
   "metadata": {},
   "outputs": [
    {
     "data": {
      "text/plain": [
       "DatetimeIndex(['2021-12-01', '2021-12-02', '2021-12-03', '2021-12-06',\n",
       "               '2021-12-07', '2021-12-08', '2021-12-09', '2021-12-10',\n",
       "               '2021-12-13', '2021-12-14', '2021-12-15', '2021-12-16',\n",
       "               '2021-12-17', '2021-12-20', '2021-12-21', '2021-12-22',\n",
       "               '2021-12-23', '2021-12-27', '2021-12-28', '2021-12-29',\n",
       "               '2021-12-30'],\n",
       "              dtype='datetime64[ns]', freq='C')"
      ]
     },
     "execution_count": 22,
     "metadata": {},
     "output_type": "execute_result"
    }
   ],
   "source": [
    "from pandas.tseries.holiday import USFederalHolidayCalendar\n",
    "from pandas.tseries.offsets import CustomBusinessDay\n",
    "\n",
    "us_cal = CustomBusinessDay(calendar=USFederalHolidayCalendar())\n",
    "\n",
    "rng = pd.date_range(start=\"12/1/2021\",end=\"12/30/2021\", freq=us_cal)\n",
    "rng"
   ]
  },
  {
   "cell_type": "markdown",
   "metadata": {},
   "source": [
    "# Abstract Holiday Calendar"
   ]
  },
  {
   "cell_type": "code",
   "execution_count": 23,
   "metadata": {},
   "outputs": [
    {
     "data": {
      "text/plain": [
       "DatetimeIndex(['2021-09-01', '2021-09-03', '2021-09-07', '2021-09-08',\n",
       "               '2021-09-09', '2021-09-10', '2021-09-13', '2021-09-14',\n",
       "               '2021-09-15', '2021-09-16', '2021-09-17', '2021-09-20',\n",
       "               '2021-09-21', '2021-09-22', '2021-09-23', '2021-09-24',\n",
       "               '2021-09-27', '2021-09-28', '2021-09-29', '2021-09-30'],\n",
       "              dtype='datetime64[ns]', freq='C')"
      ]
     },
     "execution_count": 23,
     "metadata": {},
     "output_type": "execute_result"
    }
   ],
   "source": [
    "from pandas.tseries.holiday import AbstractHolidayCalendar, nearest_workday, Holiday\n",
    "class myCalendar(AbstractHolidayCalendar):\n",
    "    rules = [Holiday('My BirthDay', month=9, day=6),Holiday(\"openday\",month=9,day=2)]     #observance=nearest_workday)\n",
    "    \n",
    "holidays = CustomBusinessDay(calendar=myCalendar())\n",
    "pd.date_range('9/1/2021','9/30/2021',freq=holidays)"
   ]
  },
  {
   "cell_type": "markdown",
   "metadata": {},
   "source": [
    "CustomBusinessDay\n",
    "Weekend in egypt is Friday and Saturday.\n",
    "\n",
    "Sunday is just a normal weekday and you can handle this custom week schedule using CustomBusinessDay with weekmask as shown below"
   ]
  },
  {
   "cell_type": "code",
   "execution_count": 15,
   "metadata": {},
   "outputs": [
    {
     "data": {
      "text/plain": [
       "DatetimeIndex(['2020-11-01', '2020-11-02', '2020-11-03', '2020-11-04',\n",
       "               '2020-11-05', '2020-11-08', '2020-11-09', '2020-11-10',\n",
       "               '2020-11-11', '2020-11-12', '2020-11-15', '2020-11-16',\n",
       "               '2020-11-17', '2020-11-18', '2020-11-19', '2020-11-22',\n",
       "               '2020-11-23', '2020-11-24', '2020-11-25', '2020-11-26'],\n",
       "              dtype='datetime64[ns]', freq='C')"
      ]
     },
     "execution_count": 15,
     "metadata": {},
     "output_type": "execute_result"
    }
   ],
   "source": [
    "egypt_weekdays = \"Sun Mon Tue Wed Thu\"\n",
    "\n",
    "b = CustomBusinessDay(weekmask=egypt_weekdays)\n",
    "\n",
    "pd.date_range(start=\"11/1/2020\",periods=20,freq=b)"
   ]
  },
  {
   "cell_type": "markdown",
   "metadata": {},
   "source": [
    "You can also add holidays to this custom business day frequency"
   ]
  },
  {
   "cell_type": "code",
   "execution_count": 16,
   "metadata": {},
   "outputs": [
    {
     "data": {
      "text/plain": [
       "DatetimeIndex(['2020-11-01', '2020-11-02', '2020-11-03', '2020-11-04',\n",
       "               '2020-11-05', '2020-11-08', '2020-11-09', '2020-11-10',\n",
       "               '2020-11-11', '2020-11-12', '2020-11-15', '2020-11-16',\n",
       "               '2020-11-17', '2020-11-18', '2020-11-19', '2020-11-22',\n",
       "               '2020-11-23', '2020-11-24', '2020-11-25', '2020-11-26'],\n",
       "              dtype='datetime64[ns]', freq='C')"
      ]
     },
     "execution_count": 16,
     "metadata": {},
     "output_type": "execute_result"
    }
   ],
   "source": [
    "b = CustomBusinessDay(holidays=['2017-07-04', '2017-07-10'], weekmask=egypt_weekdays)\n",
    "\n",
    "pd.date_range(start=\"11/1/2020\",periods=20,freq=b)"
   ]
  },
  {
   "cell_type": "markdown",
   "metadata": {},
   "source": [
    "# FORMATTING OF DATES"
   ]
  },
  {
   "cell_type": "code",
   "execution_count": 18,
   "metadata": {},
   "outputs": [
    {
     "data": {
      "text/plain": [
       "DatetimeIndex(['2017-01-05', '2017-01-05', '2017-01-05', '2017-01-05',\n",
       "               '2017-01-05', '2017-01-05'],\n",
       "              dtype='datetime64[ns]', freq=None)"
      ]
     },
     "execution_count": 18,
     "metadata": {},
     "output_type": "execute_result"
    }
   ],
   "source": [
    "dates = ['2017-01-05', 'Jan 5, 2017', '01/05/2017', '2017.01.05', '2017/01/05','20170105']\n",
    "pd.to_datetime(dates)"
   ]
  },
  {
   "cell_type": "code",
   "execution_count": 19,
   "metadata": {},
   "outputs": [
    {
     "data": {
      "text/plain": [
       "DatetimeIndex(['2017-01-05 14:30:00', '2017-01-05 14:30:00',\n",
       "               '2016-01-05 00:00:00', '2017-01-05 00:00:00',\n",
       "               '2017-01-05 00:00:00', '2017-01-05 00:00:00'],\n",
       "              dtype='datetime64[ns]', freq=None)"
      ]
     },
     "execution_count": 19,
     "metadata": {},
     "output_type": "execute_result"
    }
   ],
   "source": [
    "dt = ['2017-01-05 2:30:00 PM', 'Jan 5, 2017 14:30:00', '01/05/2016', '2017.01.05', '2017/01/05','20170105']\n",
    "pd.to_datetime(dt)"
   ]
  },
  {
   "cell_type": "markdown",
   "metadata": {},
   "source": [
    "# European style dates with day first"
   ]
  },
  {
   "cell_type": "markdown",
   "metadata": {},
   "source": [
    "EUROPEAN STYLE = \"DD/MM/YY\"\n",
    "\n",
    "AMERICAN STYLE = \"MM/DD/YY\""
   ]
  },
  {
   "cell_type": "code",
   "execution_count": 131,
   "metadata": {},
   "outputs": [
    {
     "data": {
      "text/plain": [
       "Timestamp('2016-05-01 00:00:00')"
      ]
     },
     "execution_count": 131,
     "metadata": {},
     "output_type": "execute_result"
    }
   ],
   "source": [
    "pd.to_datetime('5-1-2016')"
   ]
  },
  {
   "cell_type": "code",
   "execution_count": 132,
   "metadata": {},
   "outputs": [
    {
     "data": {
      "text/plain": [
       "Timestamp('2016-01-05 00:00:00')"
      ]
     },
     "execution_count": 132,
     "metadata": {},
     "output_type": "execute_result"
    }
   ],
   "source": [
    "pd.to_datetime('5-1-2016', dayfirst=True)"
   ]
  },
  {
   "cell_type": "markdown",
   "metadata": {},
   "source": [
    "Custom date time format"
   ]
  },
  {
   "cell_type": "code",
   "execution_count": 133,
   "metadata": {},
   "outputs": [
    {
     "data": {
      "text/plain": [
       "Timestamp('2017-01-05 00:00:00')"
      ]
     },
     "execution_count": 133,
     "metadata": {},
     "output_type": "execute_result"
    }
   ],
   "source": [
    "pd.to_datetime('2017$01$05', format='%Y$%m$%d')\n",
    "\n",
    "pd.to_datetime('2017#01#05', format='%Y#%m#%d')\n"
   ]
  },
  {
   "cell_type": "markdown",
   "metadata": {},
   "source": [
    "Handling invalid dates"
   ]
  },
  {
   "cell_type": "code",
   "execution_count": 224,
   "metadata": {},
   "outputs": [
    {
     "ename": "ParserError",
     "evalue": "Unknown string format: abc",
     "output_type": "error",
     "traceback": [
      "\u001b[1;31m---------------------------------------------------------------------------\u001b[0m",
      "\u001b[1;31mTypeError\u001b[0m                                 Traceback (most recent call last)",
      "\u001b[1;32m~\\anaconda3\\lib\\site-packages\\pandas\\core\\arrays\\datetimes.py\u001b[0m in \u001b[0;36mobjects_to_datetime64ns\u001b[1;34m(data, dayfirst, yearfirst, utc, errors, require_iso8601, allow_object)\u001b[0m\n\u001b[0;32m   1855\u001b[0m         \u001b[1;32mtry\u001b[0m\u001b[1;33m:\u001b[0m\u001b[1;33m\u001b[0m\u001b[1;33m\u001b[0m\u001b[0m\n\u001b[1;32m-> 1856\u001b[1;33m             \u001b[0mvalues\u001b[0m\u001b[1;33m,\u001b[0m \u001b[0mtz_parsed\u001b[0m \u001b[1;33m=\u001b[0m \u001b[0mconversion\u001b[0m\u001b[1;33m.\u001b[0m\u001b[0mdatetime_to_datetime64\u001b[0m\u001b[1;33m(\u001b[0m\u001b[0mdata\u001b[0m\u001b[1;33m)\u001b[0m\u001b[1;33m\u001b[0m\u001b[1;33m\u001b[0m\u001b[0m\n\u001b[0m\u001b[0;32m   1857\u001b[0m             \u001b[1;31m# If tzaware, these values represent unix timestamps, so we\u001b[0m\u001b[1;33m\u001b[0m\u001b[1;33m\u001b[0m\u001b[1;33m\u001b[0m\u001b[0m\n",
      "\u001b[1;32mpandas\\_libs\\tslibs\\conversion.pyx\u001b[0m in \u001b[0;36mpandas._libs.tslibs.conversion.datetime_to_datetime64\u001b[1;34m()\u001b[0m\n",
      "\u001b[1;31mTypeError\u001b[0m: Unrecognized value type: <class 'str'>",
      "\nDuring handling of the above exception, another exception occurred:\n",
      "\u001b[1;31mParserError\u001b[0m                               Traceback (most recent call last)",
      "\u001b[1;32m<ipython-input-224-5880639d8b30>\u001b[0m in \u001b[0;36m<module>\u001b[1;34m\u001b[0m\n\u001b[1;32m----> 1\u001b[1;33m \u001b[0mpd\u001b[0m\u001b[1;33m.\u001b[0m\u001b[0mto_datetime\u001b[0m\u001b[1;33m(\u001b[0m\u001b[1;33m[\u001b[0m\u001b[1;34m'2017-01-05'\u001b[0m\u001b[1;33m,\u001b[0m \u001b[1;34m'Jan 6, 2017'\u001b[0m\u001b[1;33m,\u001b[0m \u001b[1;34m'abc'\u001b[0m\u001b[1;33m]\u001b[0m\u001b[1;33m)\u001b[0m\u001b[1;33m\u001b[0m\u001b[1;33m\u001b[0m\u001b[0m\n\u001b[0m",
      "\u001b[1;32m~\\anaconda3\\lib\\site-packages\\pandas\\core\\tools\\datetimes.py\u001b[0m in \u001b[0;36mto_datetime\u001b[1;34m(arg, errors, dayfirst, yearfirst, utc, format, exact, unit, infer_datetime_format, origin, cache)\u001b[0m\n\u001b[0;32m    752\u001b[0m             \u001b[0mresult\u001b[0m \u001b[1;33m=\u001b[0m \u001b[0m_convert_and_box_cache\u001b[0m\u001b[1;33m(\u001b[0m\u001b[0marg\u001b[0m\u001b[1;33m,\u001b[0m \u001b[0mcache_array\u001b[0m\u001b[1;33m)\u001b[0m\u001b[1;33m\u001b[0m\u001b[1;33m\u001b[0m\u001b[0m\n\u001b[0;32m    753\u001b[0m         \u001b[1;32melse\u001b[0m\u001b[1;33m:\u001b[0m\u001b[1;33m\u001b[0m\u001b[1;33m\u001b[0m\u001b[0m\n\u001b[1;32m--> 754\u001b[1;33m             \u001b[0mresult\u001b[0m \u001b[1;33m=\u001b[0m \u001b[0mconvert_listlike\u001b[0m\u001b[1;33m(\u001b[0m\u001b[0marg\u001b[0m\u001b[1;33m,\u001b[0m \u001b[0mformat\u001b[0m\u001b[1;33m)\u001b[0m\u001b[1;33m\u001b[0m\u001b[1;33m\u001b[0m\u001b[0m\n\u001b[0m\u001b[0;32m    755\u001b[0m     \u001b[1;32melse\u001b[0m\u001b[1;33m:\u001b[0m\u001b[1;33m\u001b[0m\u001b[1;33m\u001b[0m\u001b[0m\n\u001b[0;32m    756\u001b[0m         \u001b[0mresult\u001b[0m \u001b[1;33m=\u001b[0m \u001b[0mconvert_listlike\u001b[0m\u001b[1;33m(\u001b[0m\u001b[0mnp\u001b[0m\u001b[1;33m.\u001b[0m\u001b[0marray\u001b[0m\u001b[1;33m(\u001b[0m\u001b[1;33m[\u001b[0m\u001b[0marg\u001b[0m\u001b[1;33m]\u001b[0m\u001b[1;33m)\u001b[0m\u001b[1;33m,\u001b[0m \u001b[0mformat\u001b[0m\u001b[1;33m)\u001b[0m\u001b[1;33m[\u001b[0m\u001b[1;36m0\u001b[0m\u001b[1;33m]\u001b[0m\u001b[1;33m\u001b[0m\u001b[1;33m\u001b[0m\u001b[0m\n",
      "\u001b[1;32m~\\anaconda3\\lib\\site-packages\\pandas\\core\\tools\\datetimes.py\u001b[0m in \u001b[0;36m_convert_listlike_datetimes\u001b[1;34m(arg, format, name, tz, unit, errors, infer_datetime_format, dayfirst, yearfirst, exact)\u001b[0m\n\u001b[0;32m    445\u001b[0m             \u001b[0merrors\u001b[0m\u001b[1;33m=\u001b[0m\u001b[0merrors\u001b[0m\u001b[1;33m,\u001b[0m\u001b[1;33m\u001b[0m\u001b[1;33m\u001b[0m\u001b[0m\n\u001b[0;32m    446\u001b[0m             \u001b[0mrequire_iso8601\u001b[0m\u001b[1;33m=\u001b[0m\u001b[0mrequire_iso8601\u001b[0m\u001b[1;33m,\u001b[0m\u001b[1;33m\u001b[0m\u001b[1;33m\u001b[0m\u001b[0m\n\u001b[1;32m--> 447\u001b[1;33m             \u001b[0mallow_object\u001b[0m\u001b[1;33m=\u001b[0m\u001b[1;32mTrue\u001b[0m\u001b[1;33m,\u001b[0m\u001b[1;33m\u001b[0m\u001b[1;33m\u001b[0m\u001b[0m\n\u001b[0m\u001b[0;32m    448\u001b[0m         )\n\u001b[0;32m    449\u001b[0m \u001b[1;33m\u001b[0m\u001b[0m\n",
      "\u001b[1;32m~\\anaconda3\\lib\\site-packages\\pandas\\core\\arrays\\datetimes.py\u001b[0m in \u001b[0;36mobjects_to_datetime64ns\u001b[1;34m(data, dayfirst, yearfirst, utc, errors, require_iso8601, allow_object)\u001b[0m\n\u001b[0;32m   1859\u001b[0m             \u001b[1;32mreturn\u001b[0m \u001b[0mvalues\u001b[0m\u001b[1;33m.\u001b[0m\u001b[0mview\u001b[0m\u001b[1;33m(\u001b[0m\u001b[1;34m\"i8\"\u001b[0m\u001b[1;33m)\u001b[0m\u001b[1;33m,\u001b[0m \u001b[0mtz_parsed\u001b[0m\u001b[1;33m\u001b[0m\u001b[1;33m\u001b[0m\u001b[0m\n\u001b[0;32m   1860\u001b[0m         \u001b[1;32mexcept\u001b[0m \u001b[1;33m(\u001b[0m\u001b[0mValueError\u001b[0m\u001b[1;33m,\u001b[0m \u001b[0mTypeError\u001b[0m\u001b[1;33m)\u001b[0m\u001b[1;33m:\u001b[0m\u001b[1;33m\u001b[0m\u001b[1;33m\u001b[0m\u001b[0m\n\u001b[1;32m-> 1861\u001b[1;33m             \u001b[1;32mraise\u001b[0m \u001b[0me\u001b[0m\u001b[1;33m\u001b[0m\u001b[1;33m\u001b[0m\u001b[0m\n\u001b[0m\u001b[0;32m   1862\u001b[0m \u001b[1;33m\u001b[0m\u001b[0m\n\u001b[0;32m   1863\u001b[0m     \u001b[1;32mif\u001b[0m \u001b[0mtz_parsed\u001b[0m \u001b[1;32mis\u001b[0m \u001b[1;32mnot\u001b[0m \u001b[1;32mNone\u001b[0m\u001b[1;33m:\u001b[0m\u001b[1;33m\u001b[0m\u001b[1;33m\u001b[0m\u001b[0m\n",
      "\u001b[1;32m~\\anaconda3\\lib\\site-packages\\pandas\\core\\arrays\\datetimes.py\u001b[0m in \u001b[0;36mobjects_to_datetime64ns\u001b[1;34m(data, dayfirst, yearfirst, utc, errors, require_iso8601, allow_object)\u001b[0m\n\u001b[0;32m   1850\u001b[0m             \u001b[0mdayfirst\u001b[0m\u001b[1;33m=\u001b[0m\u001b[0mdayfirst\u001b[0m\u001b[1;33m,\u001b[0m\u001b[1;33m\u001b[0m\u001b[1;33m\u001b[0m\u001b[0m\n\u001b[0;32m   1851\u001b[0m             \u001b[0myearfirst\u001b[0m\u001b[1;33m=\u001b[0m\u001b[0myearfirst\u001b[0m\u001b[1;33m,\u001b[0m\u001b[1;33m\u001b[0m\u001b[1;33m\u001b[0m\u001b[0m\n\u001b[1;32m-> 1852\u001b[1;33m             \u001b[0mrequire_iso8601\u001b[0m\u001b[1;33m=\u001b[0m\u001b[0mrequire_iso8601\u001b[0m\u001b[1;33m,\u001b[0m\u001b[1;33m\u001b[0m\u001b[1;33m\u001b[0m\u001b[0m\n\u001b[0m\u001b[0;32m   1853\u001b[0m         )\n\u001b[0;32m   1854\u001b[0m     \u001b[1;32mexcept\u001b[0m \u001b[0mValueError\u001b[0m \u001b[1;32mas\u001b[0m \u001b[0me\u001b[0m\u001b[1;33m:\u001b[0m\u001b[1;33m\u001b[0m\u001b[1;33m\u001b[0m\u001b[0m\n",
      "\u001b[1;32mpandas\\_libs\\tslib.pyx\u001b[0m in \u001b[0;36mpandas._libs.tslib.array_to_datetime\u001b[1;34m()\u001b[0m\n",
      "\u001b[1;32mpandas\\_libs\\tslib.pyx\u001b[0m in \u001b[0;36mpandas._libs.tslib.array_to_datetime\u001b[1;34m()\u001b[0m\n",
      "\u001b[1;32mpandas\\_libs\\tslib.pyx\u001b[0m in \u001b[0;36mpandas._libs.tslib.array_to_datetime_object\u001b[1;34m()\u001b[0m\n",
      "\u001b[1;32mpandas\\_libs\\tslib.pyx\u001b[0m in \u001b[0;36mpandas._libs.tslib.array_to_datetime_object\u001b[1;34m()\u001b[0m\n",
      "\u001b[1;32mpandas\\_libs\\tslibs\\parsing.pyx\u001b[0m in \u001b[0;36mpandas._libs.tslibs.parsing.parse_datetime_string\u001b[1;34m()\u001b[0m\n",
      "\u001b[1;32m~\\anaconda3\\lib\\site-packages\\dateutil\\parser\\_parser.py\u001b[0m in \u001b[0;36mparse\u001b[1;34m(timestr, parserinfo, **kwargs)\u001b[0m\n\u001b[0;32m   1372\u001b[0m         \u001b[1;32mreturn\u001b[0m \u001b[0mparser\u001b[0m\u001b[1;33m(\u001b[0m\u001b[0mparserinfo\u001b[0m\u001b[1;33m)\u001b[0m\u001b[1;33m.\u001b[0m\u001b[0mparse\u001b[0m\u001b[1;33m(\u001b[0m\u001b[0mtimestr\u001b[0m\u001b[1;33m,\u001b[0m \u001b[1;33m**\u001b[0m\u001b[0mkwargs\u001b[0m\u001b[1;33m)\u001b[0m\u001b[1;33m\u001b[0m\u001b[1;33m\u001b[0m\u001b[0m\n\u001b[0;32m   1373\u001b[0m     \u001b[1;32melse\u001b[0m\u001b[1;33m:\u001b[0m\u001b[1;33m\u001b[0m\u001b[1;33m\u001b[0m\u001b[0m\n\u001b[1;32m-> 1374\u001b[1;33m         \u001b[1;32mreturn\u001b[0m \u001b[0mDEFAULTPARSER\u001b[0m\u001b[1;33m.\u001b[0m\u001b[0mparse\u001b[0m\u001b[1;33m(\u001b[0m\u001b[0mtimestr\u001b[0m\u001b[1;33m,\u001b[0m \u001b[1;33m**\u001b[0m\u001b[0mkwargs\u001b[0m\u001b[1;33m)\u001b[0m\u001b[1;33m\u001b[0m\u001b[1;33m\u001b[0m\u001b[0m\n\u001b[0m\u001b[0;32m   1375\u001b[0m \u001b[1;33m\u001b[0m\u001b[0m\n\u001b[0;32m   1376\u001b[0m \u001b[1;33m\u001b[0m\u001b[0m\n",
      "\u001b[1;32m~\\anaconda3\\lib\\site-packages\\dateutil\\parser\\_parser.py\u001b[0m in \u001b[0;36mparse\u001b[1;34m(self, timestr, default, ignoretz, tzinfos, **kwargs)\u001b[0m\n\u001b[0;32m    647\u001b[0m \u001b[1;33m\u001b[0m\u001b[0m\n\u001b[0;32m    648\u001b[0m         \u001b[1;32mif\u001b[0m \u001b[0mres\u001b[0m \u001b[1;32mis\u001b[0m \u001b[1;32mNone\u001b[0m\u001b[1;33m:\u001b[0m\u001b[1;33m\u001b[0m\u001b[1;33m\u001b[0m\u001b[0m\n\u001b[1;32m--> 649\u001b[1;33m             \u001b[1;32mraise\u001b[0m \u001b[0mParserError\u001b[0m\u001b[1;33m(\u001b[0m\u001b[1;34m\"Unknown string format: %s\"\u001b[0m\u001b[1;33m,\u001b[0m \u001b[0mtimestr\u001b[0m\u001b[1;33m)\u001b[0m\u001b[1;33m\u001b[0m\u001b[1;33m\u001b[0m\u001b[0m\n\u001b[0m\u001b[0;32m    650\u001b[0m \u001b[1;33m\u001b[0m\u001b[0m\n\u001b[0;32m    651\u001b[0m         \u001b[1;32mif\u001b[0m \u001b[0mlen\u001b[0m\u001b[1;33m(\u001b[0m\u001b[0mres\u001b[0m\u001b[1;33m)\u001b[0m \u001b[1;33m==\u001b[0m \u001b[1;36m0\u001b[0m\u001b[1;33m:\u001b[0m\u001b[1;33m\u001b[0m\u001b[1;33m\u001b[0m\u001b[0m\n",
      "\u001b[1;31mParserError\u001b[0m: Unknown string format: abc"
     ]
    }
   ],
   "source": [
    "pd.to_datetime(['2017-01-05', 'Jan 6, 2017', 'abc'])"
   ]
  },
  {
   "cell_type": "code",
   "execution_count": 25,
   "metadata": {},
   "outputs": [
    {
     "data": {
      "text/plain": [
       "Index(['2017-01-05', 'Jan 6, 2017', 'abc'], dtype='object')"
      ]
     },
     "execution_count": 25,
     "metadata": {},
     "output_type": "execute_result"
    }
   ],
   "source": [
    "pd.to_datetime(['2017-01-05', 'Jan 6, 2017', 'abc'], errors='ignore')"
   ]
  },
  {
   "cell_type": "code",
   "execution_count": 26,
   "metadata": {},
   "outputs": [
    {
     "data": {
      "text/plain": [
       "DatetimeIndex(['2017-01-05', '2017-01-06', 'NaT'], dtype='datetime64[ns]', freq=None)"
      ]
     },
     "execution_count": 26,
     "metadata": {},
     "output_type": "execute_result"
    }
   ],
   "source": [
    "pd.to_datetime(['2017-01-05', 'Jan 6, 2017', 'abc'], errors='coerce')"
   ]
  },
  {
   "cell_type": "markdown",
   "metadata": {},
   "source": [
    "# PeriodIndex and period_range"
   ]
  },
  {
   "cell_type": "code",
   "execution_count": 55,
   "metadata": {},
   "outputs": [
    {
     "data": {
      "text/plain": [
       "PeriodIndex(['2011Q1', '2011Q2', '2011Q3', '2011Q4', '2012Q1'], dtype='period[Q-DEC]')"
      ]
     },
     "execution_count": 55,
     "metadata": {},
     "output_type": "execute_result"
    }
   ],
   "source": [
    "r = pd.period_range('2011', '2012', freq='q')\n",
    "r"
   ]
  },
  {
   "cell_type": "code",
   "execution_count": 51,
   "metadata": {},
   "outputs": [
    {
     "data": {
      "text/plain": [
       "Timestamp('2012-01-01 00:00:00')"
      ]
     },
     "execution_count": 51,
     "metadata": {},
     "output_type": "execute_result"
    }
   ],
   "source": [
    "r[4].start_time"
   ]
  },
  {
   "cell_type": "code",
   "execution_count": 52,
   "metadata": {},
   "outputs": [
    {
     "data": {
      "text/plain": [
       "Timestamp('2012-03-31 23:59:59.999999999')"
      ]
     },
     "execution_count": 52,
     "metadata": {},
     "output_type": "execute_result"
    }
   ],
   "source": [
    "r[4].end_time"
   ]
  },
  {
   "cell_type": "code",
   "execution_count": 56,
   "metadata": {},
   "outputs": [
    {
     "data": {
      "text/plain": [
       "PeriodIndex(['2011Q4', '2012Q1', '2012Q2', '2012Q3', '2012Q4'], dtype='period[Q-JAN]')"
      ]
     },
     "execution_count": 56,
     "metadata": {},
     "output_type": "execute_result"
    }
   ],
   "source": [
    "r = pd.period_range('2011', '2012', freq='q-jan')\n",
    "r"
   ]
  },
  {
   "cell_type": "code",
   "execution_count": 57,
   "metadata": {},
   "outputs": [
    {
     "data": {
      "text/plain": [
       "Timestamp('2010-11-01 00:00:00')"
      ]
     },
     "execution_count": 57,
     "metadata": {},
     "output_type": "execute_result"
    }
   ],
   "source": [
    "r[0].start_time"
   ]
  },
  {
   "cell_type": "code",
   "execution_count": 58,
   "metadata": {},
   "outputs": [
    {
     "data": {
      "text/plain": [
       "Timestamp('2011-01-31 23:59:59.999999999')"
      ]
     },
     "execution_count": 58,
     "metadata": {},
     "output_type": "execute_result"
    }
   ],
   "source": [
    "r[0].end_time"
   ]
  },
  {
   "cell_type": "markdown",
   "metadata": {},
   "source": [
    "# Add start date end date columns to dataframe"
   ]
  },
  {
   "cell_type": "code",
   "execution_count": 59,
   "metadata": {},
   "outputs": [
    {
     "data": {
      "text/html": [
       "<div>\n",
       "<style scoped>\n",
       "    .dataframe tbody tr th:only-of-type {\n",
       "        vertical-align: middle;\n",
       "    }\n",
       "\n",
       "    .dataframe tbody tr th {\n",
       "        vertical-align: top;\n",
       "    }\n",
       "\n",
       "    .dataframe thead th {\n",
       "        text-align: right;\n",
       "    }\n",
       "</style>\n",
       "<table border=\"1\" class=\"dataframe\">\n",
       "  <thead>\n",
       "    <tr style=\"text-align: right;\">\n",
       "      <th></th>\n",
       "      <th>Line Item</th>\n",
       "      <th>2017Q1</th>\n",
       "      <th>2017Q2</th>\n",
       "      <th>2017Q3</th>\n",
       "      <th>2017Q4</th>\n",
       "      <th>2018Q1</th>\n",
       "    </tr>\n",
       "  </thead>\n",
       "  <tbody>\n",
       "    <tr>\n",
       "      <th>0</th>\n",
       "      <td>Revenue</td>\n",
       "      <td>115904</td>\n",
       "      <td>120854</td>\n",
       "      <td>118179</td>\n",
       "      <td>130936</td>\n",
       "      <td>117542</td>\n",
       "    </tr>\n",
       "    <tr>\n",
       "      <th>1</th>\n",
       "      <td>Expenses</td>\n",
       "      <td>86544</td>\n",
       "      <td>89485</td>\n",
       "      <td>87484</td>\n",
       "      <td>97743</td>\n",
       "      <td>87688</td>\n",
       "    </tr>\n",
       "    <tr>\n",
       "      <th>2</th>\n",
       "      <td>Profit</td>\n",
       "      <td>29360</td>\n",
       "      <td>31369</td>\n",
       "      <td>30695</td>\n",
       "      <td>33193</td>\n",
       "      <td>29854</td>\n",
       "    </tr>\n",
       "  </tbody>\n",
       "</table>\n",
       "</div>"
      ],
      "text/plain": [
       "  Line Item  2017Q1  2017Q2  2017Q3  2017Q4  2018Q1\n",
       "0   Revenue  115904  120854  118179  130936  117542\n",
       "1  Expenses   86544   89485   87484   97743   87688\n",
       "2    Profit   29360   31369   30695   33193   29854"
      ]
     },
     "execution_count": 59,
     "metadata": {},
     "output_type": "execute_result"
    }
   ],
   "source": [
    "df=pd.read_csv('walmart_periodindex_data.csv')\n",
    "df"
   ]
  },
  {
   "cell_type": "code",
   "execution_count": 60,
   "metadata": {},
   "outputs": [],
   "source": [
    "df.set_index(\"Line Item\",inplace=True)"
   ]
  },
  {
   "cell_type": "code",
   "execution_count": 61,
   "metadata": {},
   "outputs": [
    {
     "data": {
      "text/html": [
       "<div>\n",
       "<style scoped>\n",
       "    .dataframe tbody tr th:only-of-type {\n",
       "        vertical-align: middle;\n",
       "    }\n",
       "\n",
       "    .dataframe tbody tr th {\n",
       "        vertical-align: top;\n",
       "    }\n",
       "\n",
       "    .dataframe thead th {\n",
       "        text-align: right;\n",
       "    }\n",
       "</style>\n",
       "<table border=\"1\" class=\"dataframe\">\n",
       "  <thead>\n",
       "    <tr style=\"text-align: right;\">\n",
       "      <th>Line Item</th>\n",
       "      <th>Revenue</th>\n",
       "      <th>Expenses</th>\n",
       "      <th>Profit</th>\n",
       "    </tr>\n",
       "  </thead>\n",
       "  <tbody>\n",
       "    <tr>\n",
       "      <th>2017Q1</th>\n",
       "      <td>115904</td>\n",
       "      <td>86544</td>\n",
       "      <td>29360</td>\n",
       "    </tr>\n",
       "    <tr>\n",
       "      <th>2017Q2</th>\n",
       "      <td>120854</td>\n",
       "      <td>89485</td>\n",
       "      <td>31369</td>\n",
       "    </tr>\n",
       "    <tr>\n",
       "      <th>2017Q3</th>\n",
       "      <td>118179</td>\n",
       "      <td>87484</td>\n",
       "      <td>30695</td>\n",
       "    </tr>\n",
       "    <tr>\n",
       "      <th>2017Q4</th>\n",
       "      <td>130936</td>\n",
       "      <td>97743</td>\n",
       "      <td>33193</td>\n",
       "    </tr>\n",
       "    <tr>\n",
       "      <th>2018Q1</th>\n",
       "      <td>117542</td>\n",
       "      <td>87688</td>\n",
       "      <td>29854</td>\n",
       "    </tr>\n",
       "  </tbody>\n",
       "</table>\n",
       "</div>"
      ],
      "text/plain": [
       "Line Item  Revenue  Expenses  Profit\n",
       "2017Q1      115904     86544   29360\n",
       "2017Q2      120854     89485   31369\n",
       "2017Q3      118179     87484   30695\n",
       "2017Q4      130936     97743   33193\n",
       "2018Q1      117542     87688   29854"
      ]
     },
     "execution_count": 61,
     "metadata": {},
     "output_type": "execute_result"
    }
   ],
   "source": [
    "df=df.T\n",
    "df"
   ]
  },
  {
   "cell_type": "code",
   "execution_count": 62,
   "metadata": {},
   "outputs": [
    {
     "data": {
      "text/html": [
       "<div>\n",
       "<style scoped>\n",
       "    .dataframe tbody tr th:only-of-type {\n",
       "        vertical-align: middle;\n",
       "    }\n",
       "\n",
       "    .dataframe tbody tr th {\n",
       "        vertical-align: top;\n",
       "    }\n",
       "\n",
       "    .dataframe thead th {\n",
       "        text-align: right;\n",
       "    }\n",
       "</style>\n",
       "<table border=\"1\" class=\"dataframe\">\n",
       "  <thead>\n",
       "    <tr style=\"text-align: right;\">\n",
       "      <th>Line Item</th>\n",
       "      <th>Revenue</th>\n",
       "      <th>Expenses</th>\n",
       "      <th>Profit</th>\n",
       "    </tr>\n",
       "  </thead>\n",
       "  <tbody>\n",
       "    <tr>\n",
       "      <th>2017Q1</th>\n",
       "      <td>115904</td>\n",
       "      <td>86544</td>\n",
       "      <td>29360</td>\n",
       "    </tr>\n",
       "    <tr>\n",
       "      <th>2017Q2</th>\n",
       "      <td>120854</td>\n",
       "      <td>89485</td>\n",
       "      <td>31369</td>\n",
       "    </tr>\n",
       "    <tr>\n",
       "      <th>2017Q3</th>\n",
       "      <td>118179</td>\n",
       "      <td>87484</td>\n",
       "      <td>30695</td>\n",
       "    </tr>\n",
       "    <tr>\n",
       "      <th>2017Q4</th>\n",
       "      <td>130936</td>\n",
       "      <td>97743</td>\n",
       "      <td>33193</td>\n",
       "    </tr>\n",
       "    <tr>\n",
       "      <th>2018Q1</th>\n",
       "      <td>117542</td>\n",
       "      <td>87688</td>\n",
       "      <td>29854</td>\n",
       "    </tr>\n",
       "  </tbody>\n",
       "</table>\n",
       "</div>"
      ],
      "text/plain": [
       "Line Item  Revenue  Expenses  Profit\n",
       "2017Q1      115904     86544   29360\n",
       "2017Q2      120854     89485   31369\n",
       "2017Q3      118179     87484   30695\n",
       "2017Q4      130936     97743   33193\n",
       "2018Q1      117542     87688   29854"
      ]
     },
     "execution_count": 62,
     "metadata": {},
     "output_type": "execute_result"
    }
   ],
   "source": [
    "df.index = pd.PeriodIndex(df.index, freq=\"Q-JAN\")\n",
    "df"
   ]
  },
  {
   "cell_type": "code",
   "execution_count": 63,
   "metadata": {},
   "outputs": [
    {
     "data": {
      "text/html": [
       "<div>\n",
       "<style scoped>\n",
       "    .dataframe tbody tr th:only-of-type {\n",
       "        vertical-align: middle;\n",
       "    }\n",
       "\n",
       "    .dataframe tbody tr th {\n",
       "        vertical-align: top;\n",
       "    }\n",
       "\n",
       "    .dataframe thead th {\n",
       "        text-align: right;\n",
       "    }\n",
       "</style>\n",
       "<table border=\"1\" class=\"dataframe\">\n",
       "  <thead>\n",
       "    <tr style=\"text-align: right;\">\n",
       "      <th>Line Item</th>\n",
       "      <th>Revenue</th>\n",
       "      <th>Expenses</th>\n",
       "      <th>Profit</th>\n",
       "      <th>Start Date</th>\n",
       "    </tr>\n",
       "  </thead>\n",
       "  <tbody>\n",
       "    <tr>\n",
       "      <th>2017Q1</th>\n",
       "      <td>115904</td>\n",
       "      <td>86544</td>\n",
       "      <td>29360</td>\n",
       "      <td>2016-02-01</td>\n",
       "    </tr>\n",
       "    <tr>\n",
       "      <th>2017Q2</th>\n",
       "      <td>120854</td>\n",
       "      <td>89485</td>\n",
       "      <td>31369</td>\n",
       "      <td>2016-05-01</td>\n",
       "    </tr>\n",
       "    <tr>\n",
       "      <th>2017Q3</th>\n",
       "      <td>118179</td>\n",
       "      <td>87484</td>\n",
       "      <td>30695</td>\n",
       "      <td>2016-08-01</td>\n",
       "    </tr>\n",
       "    <tr>\n",
       "      <th>2017Q4</th>\n",
       "      <td>130936</td>\n",
       "      <td>97743</td>\n",
       "      <td>33193</td>\n",
       "      <td>2016-11-01</td>\n",
       "    </tr>\n",
       "    <tr>\n",
       "      <th>2018Q1</th>\n",
       "      <td>117542</td>\n",
       "      <td>87688</td>\n",
       "      <td>29854</td>\n",
       "      <td>2017-02-01</td>\n",
       "    </tr>\n",
       "  </tbody>\n",
       "</table>\n",
       "</div>"
      ],
      "text/plain": [
       "Line Item  Revenue  Expenses  Profit Start Date\n",
       "2017Q1      115904     86544   29360 2016-02-01\n",
       "2017Q2      120854     89485   31369 2016-05-01\n",
       "2017Q3      118179     87484   30695 2016-08-01\n",
       "2017Q4      130936     97743   33193 2016-11-01\n",
       "2018Q1      117542     87688   29854 2017-02-01"
      ]
     },
     "execution_count": 63,
     "metadata": {},
     "output_type": "execute_result"
    }
   ],
   "source": [
    "df[\"Start Date\"]=df.index.map(lambda x: x.start_time)\n",
    "df"
   ]
  },
  {
   "cell_type": "code",
   "execution_count": 64,
   "metadata": {},
   "outputs": [
    {
     "data": {
      "text/html": [
       "<div>\n",
       "<style scoped>\n",
       "    .dataframe tbody tr th:only-of-type {\n",
       "        vertical-align: middle;\n",
       "    }\n",
       "\n",
       "    .dataframe tbody tr th {\n",
       "        vertical-align: top;\n",
       "    }\n",
       "\n",
       "    .dataframe thead th {\n",
       "        text-align: right;\n",
       "    }\n",
       "</style>\n",
       "<table border=\"1\" class=\"dataframe\">\n",
       "  <thead>\n",
       "    <tr style=\"text-align: right;\">\n",
       "      <th>Line Item</th>\n",
       "      <th>Revenue</th>\n",
       "      <th>Expenses</th>\n",
       "      <th>Profit</th>\n",
       "      <th>Start Date</th>\n",
       "      <th>End Date</th>\n",
       "    </tr>\n",
       "  </thead>\n",
       "  <tbody>\n",
       "    <tr>\n",
       "      <th>2017Q1</th>\n",
       "      <td>115904</td>\n",
       "      <td>86544</td>\n",
       "      <td>29360</td>\n",
       "      <td>2016-02-01</td>\n",
       "      <td>2016-04-30 23:59:59.999999999</td>\n",
       "    </tr>\n",
       "    <tr>\n",
       "      <th>2017Q2</th>\n",
       "      <td>120854</td>\n",
       "      <td>89485</td>\n",
       "      <td>31369</td>\n",
       "      <td>2016-05-01</td>\n",
       "      <td>2016-07-31 23:59:59.999999999</td>\n",
       "    </tr>\n",
       "    <tr>\n",
       "      <th>2017Q3</th>\n",
       "      <td>118179</td>\n",
       "      <td>87484</td>\n",
       "      <td>30695</td>\n",
       "      <td>2016-08-01</td>\n",
       "      <td>2016-10-31 23:59:59.999999999</td>\n",
       "    </tr>\n",
       "    <tr>\n",
       "      <th>2017Q4</th>\n",
       "      <td>130936</td>\n",
       "      <td>97743</td>\n",
       "      <td>33193</td>\n",
       "      <td>2016-11-01</td>\n",
       "      <td>2017-01-31 23:59:59.999999999</td>\n",
       "    </tr>\n",
       "    <tr>\n",
       "      <th>2018Q1</th>\n",
       "      <td>117542</td>\n",
       "      <td>87688</td>\n",
       "      <td>29854</td>\n",
       "      <td>2017-02-01</td>\n",
       "      <td>2017-04-30 23:59:59.999999999</td>\n",
       "    </tr>\n",
       "  </tbody>\n",
       "</table>\n",
       "</div>"
      ],
      "text/plain": [
       "Line Item  Revenue  Expenses  Profit Start Date                      End Date\n",
       "2017Q1      115904     86544   29360 2016-02-01 2016-04-30 23:59:59.999999999\n",
       "2017Q2      120854     89485   31369 2016-05-01 2016-07-31 23:59:59.999999999\n",
       "2017Q3      118179     87484   30695 2016-08-01 2016-10-31 23:59:59.999999999\n",
       "2017Q4      130936     97743   33193 2016-11-01 2017-01-31 23:59:59.999999999\n",
       "2018Q1      117542     87688   29854 2017-02-01 2017-04-30 23:59:59.999999999"
      ]
     },
     "execution_count": 64,
     "metadata": {},
     "output_type": "execute_result"
    }
   ],
   "source": [
    "df[\"End Date\"]=df.index.map(lambda x: x.end_time)\n",
    "df"
   ]
  },
  {
   "cell_type": "code",
   "execution_count": null,
   "metadata": {},
   "outputs": [],
   "source": []
  }
 ],
 "metadata": {
  "kernelspec": {
   "display_name": "Python 3 (ipykernel)",
   "language": "python",
   "name": "python3"
  },
  "language_info": {
   "codemirror_mode": {
    "name": "ipython",
    "version": 3
   },
   "file_extension": ".py",
   "mimetype": "text/x-python",
   "name": "python",
   "nbconvert_exporter": "python",
   "pygments_lexer": "ipython3",
   "version": "3.9.12"
  }
 },
 "nbformat": 4,
 "nbformat_minor": 4
}
