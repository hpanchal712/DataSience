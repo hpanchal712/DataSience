{
 "cells": [
  {
   "cell_type": "code",
   "execution_count": 1,
   "id": "55caeb44",
   "metadata": {},
   "outputs": [],
   "source": [
    "# Unsupervised technique\n",
    "# Analyze large volues of text data by clustering documents into groups\n",
    "# 1. Latent Dirichlet Allocation (LDA) - indecates hidden topics in the data\n",
    "# 2. Non-Negative Matrix Factorization (NNMF) "
   ]
  },
  {
   "cell_type": "markdown",
   "id": "a177b579",
   "metadata": {},
   "source": [
    "# Latent Dirichlet Allocation (LDA)"
   ]
  },
  {
   "cell_type": "code",
   "execution_count": null,
   "id": "0ed33803",
   "metadata": {},
   "outputs": [],
   "source": [
    "import pandas as pd\n",
    "import numpy as np\n",
    "\n",
    "review_datasets = pd.read_csv('Reviews.csv')\n",
    "review_datasets = review_datasets.head(2000)\n",
    "review_datasets.dropna()"
   ]
  },
  {
   "cell_type": "code",
   "execution_count": null,
   "id": "72352a1b",
   "metadata": {},
   "outputs": [],
   "source": [
    "review_datasets.head()"
   ]
  },
  {
   "cell_type": "code",
   "execution_count": 2,
   "id": "366644e6",
   "metadata": {},
   "outputs": [
    {
     "ename": "NameError",
     "evalue": "name 'review_datasets' is not defined",
     "output_type": "error",
     "traceback": [
      "\u001b[1;31m---------------------------------------------------------------------------\u001b[0m",
      "\u001b[1;31mNameError\u001b[0m                                 Traceback (most recent call last)",
      "Input \u001b[1;32mIn [2]\u001b[0m, in \u001b[0;36m<cell line: 1>\u001b[1;34m()\u001b[0m\n\u001b[1;32m----> 1\u001b[0m \u001b[43mreview_datasets\u001b[49m[\u001b[38;5;124m'\u001b[39m\u001b[38;5;124mText\u001b[39m\u001b[38;5;124m'\u001b[39m][\u001b[38;5;241m350\u001b[39m]\n",
      "\u001b[1;31mNameError\u001b[0m: name 'review_datasets' is not defined"
     ]
    }
   ],
   "source": [
    "review_datasets['Text'][350]"
   ]
  },
  {
   "cell_type": "code",
   "execution_count": null,
   "id": "88233a0e",
   "metadata": {},
   "outputs": [],
   "source": [
    "from sklearn.feature_extraction.text import CountVectorizer\n",
    "\n",
    "count_vect = CountVectorizer(max_df=0.8, min_df=0.2, stop_words='english')\n",
    "doc_term_matrix = count_vect.fit_transform(reviews_datasets['Text'].values.astype('U'))"
   ]
  },
  {
   "cell_type": "code",
   "execution_count": 3,
   "id": "4e7001ad",
   "metadata": {},
   "outputs": [
    {
     "name": "stdout",
     "output_type": "stream",
     "text": [
      "Object `CountVectorizer` not found.\n"
     ]
    }
   ],
   "source": [
    "CountVectorizer?"
   ]
  },
  {
   "cell_type": "code",
   "execution_count": null,
   "id": "fa132995",
   "metadata": {},
   "outputs": [],
   "source": [
    "print(doc_term_matrix)"
   ]
  },
  {
   "cell_type": "code",
   "execution_count": 4,
   "id": "48fd69d0",
   "metadata": {},
   "outputs": [
    {
     "ename": "NameError",
     "evalue": "name 'doc_term_matrix' is not defined",
     "output_type": "error",
     "traceback": [
      "\u001b[1;31m---------------------------------------------------------------------------\u001b[0m",
      "\u001b[1;31mNameError\u001b[0m                                 Traceback (most recent call last)",
      "Input \u001b[1;32mIn [4]\u001b[0m, in \u001b[0;36m<cell line: 4>\u001b[1;34m()\u001b[0m\n\u001b[0;32m      1\u001b[0m \u001b[38;5;28;01mfrom\u001b[39;00m \u001b[38;5;21;01msklearn\u001b[39;00m\u001b[38;5;21;01m.\u001b[39;00m\u001b[38;5;21;01mdecomposition\u001b[39;00m \u001b[38;5;28;01mimport\u001b[39;00m LatentDirichletAllocation\n\u001b[0;32m      3\u001b[0m LDA \u001b[38;5;241m=\u001b[39m LatentDirichletAllocation(n_components\u001b[38;5;241m=\u001b[39m\u001b[38;5;241m5\u001b[39m, random_state\u001b[38;5;241m=\u001b[39m\u001b[38;5;241m42\u001b[39m)\n\u001b[1;32m----> 4\u001b[0m LDA\u001b[38;5;241m.\u001b[39mfit(\u001b[43mdoc_term_matrix\u001b[49m)\n",
      "\u001b[1;31mNameError\u001b[0m: name 'doc_term_matrix' is not defined"
     ]
    }
   ],
   "source": [
    "from sklearn.decomposition import LatentDirichletAllocation\n",
    "\n",
    "LDA = LatentDirichletAllocation(n_components=5, random_state=42)\n",
    "LDA.fit(doc_term_matrix)"
   ]
  },
  {
   "cell_type": "code",
   "execution_count": null,
   "id": "4a257d20",
   "metadata": {},
   "outputs": [],
   "source": [
    "# Randomly fetch 10 words from our vocabulary\n",
    "import random\n",
    "\n",
    "for i in range(10):\n",
    "    random_id = random.randint(0, len(count_vect.get_feature_names_out()))\n",
    "    print(count_vect.get_feature_names_out()[random_id])"
   ]
  },
  {
   "cell_type": "code",
   "execution_count": null,
   "id": "a0749013",
   "metadata": {},
   "outputs": [],
   "source": [
    "# let's find 10 words with the highest probability for the first topic. \n",
    "#To get the first topic, you can use the components_attribute and pass a 0 index as the value:\n",
    "\n",
    "first_topic = LDA.components_[0]"
   ]
  },
  {
   "cell_type": "code",
   "execution_count": null,
   "id": "584a8756",
   "metadata": {},
   "outputs": [],
   "source": [
    "first_topic"
   ]
  },
  {
   "cell_type": "code",
   "execution_count": null,
   "id": "ddc9924c",
   "metadata": {},
   "outputs": [],
   "source": [
    "top_topic_words = first_topic.argsort()[-10:]\n",
    "top_topic_words"
   ]
  },
  {
   "cell_type": "code",
   "execution_count": null,
   "id": "a1767809",
   "metadata": {},
   "outputs": [],
   "source": [
    "# thiese indexes can then be used to retrieve the value of the words from the count_vect object, which can be done like this\n",
    "for i in top_topic_words:\n",
    "    print(count_vect.get_feature_names()[i])"
   ]
  },
  {
   "cell_type": "code",
   "execution_count": null,
   "id": "2fd67a3d",
   "metadata": {},
   "outputs": [],
   "source": [
    "# The words show that the first topic might be about tea\n",
    "# let's print the 10 words with highest probabilities for all the five topics\n",
    "\n",
    "for i, topic in enumerate(LDA.components_):\n",
    "    print(f'Top 10 words for topic# {i}:')\n",
    "    print([count_vect.get_feature_names_out()[i] for i in topic.argsort()[-10:]])\n",
    "    print('\\n')"
   ]
  },
  {
   "cell_type": "code",
   "execution_count": null,
   "id": "1fbb03be",
   "metadata": {},
   "outputs": [],
   "source": []
  },
  {
   "cell_type": "code",
   "execution_count": null,
   "id": "36077f69",
   "metadata": {},
   "outputs": [],
   "source": []
  },
  {
   "cell_type": "code",
   "execution_count": null,
   "id": "908747b9",
   "metadata": {},
   "outputs": [],
   "source": []
  }
 ],
 "metadata": {
  "kernelspec": {
   "display_name": "Python 3 (ipykernel)",
   "language": "python",
   "name": "python3"
  },
  "language_info": {
   "codemirror_mode": {
    "name": "ipython",
    "version": 3
   },
   "file_extension": ".py",
   "mimetype": "text/x-python",
   "name": "python",
   "nbconvert_exporter": "python",
   "pygments_lexer": "ipython3",
   "version": "3.9.12"
  }
 },
 "nbformat": 4,
 "nbformat_minor": 5
}
