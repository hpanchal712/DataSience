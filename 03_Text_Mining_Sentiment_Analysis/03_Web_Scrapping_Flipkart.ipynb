{
 "cells": [
  {
   "cell_type": "code",
   "execution_count": 1,
   "id": "d5b20071",
   "metadata": {},
   "outputs": [],
   "source": [
    "import requests\n",
    "from bs4 import BeautifulSoup as bs\n",
    "import pandas as pd\n",
    "import os"
   ]
  },
  {
   "cell_type": "code",
   "execution_count": 3,
   "id": "ea35c74f",
   "metadata": {},
   "outputs": [
    {
     "name": "stdout",
     "output_type": "stream",
     "text": [
      "Enter name: iphone\n"
     ]
    }
   ],
   "source": [
    "prod_name = input(\"Enter name: \")"
   ]
  },
  {
   "cell_type": "code",
   "execution_count": 5,
   "id": "85e94467",
   "metadata": {},
   "outputs": [],
   "source": [
    "price=[]\n",
    "name=[]\n",
    "for i in range(1,22):\n",
    "    url=\"https://www.flipkart.com/search?q={}&page={}\".format(prod_name,i)\n",
    "    webpage_info=requests.get(url).text\n",
    "    scrap = bs(webpage_info)\n",
    "    for j in scrap.find_all('div',class_='_30jeq3 _1_WHN1'):\n",
    "        price.append(j.text)\n",
    "    for k in scrap.find_all('div',class_='_4rR01T'):\n",
    "        name.append(k.text)"
   ]
  },
  {
   "cell_type": "code",
   "execution_count": 6,
   "id": "c663e829",
   "metadata": {},
   "outputs": [
    {
     "data": {
      "text/html": [
       "<div>\n",
       "<style scoped>\n",
       "    .dataframe tbody tr th:only-of-type {\n",
       "        vertical-align: middle;\n",
       "    }\n",
       "\n",
       "    .dataframe tbody tr th {\n",
       "        vertical-align: top;\n",
       "    }\n",
       "\n",
       "    .dataframe thead th {\n",
       "        text-align: right;\n",
       "    }\n",
       "</style>\n",
       "<table border=\"1\" class=\"dataframe\">\n",
       "  <thead>\n",
       "    <tr style=\"text-align: right;\">\n",
       "      <th></th>\n",
       "      <th>name</th>\n",
       "      <th>price</th>\n",
       "    </tr>\n",
       "  </thead>\n",
       "  <tbody>\n",
       "    <tr>\n",
       "      <th>0</th>\n",
       "      <td>APPLE iPhone 13 (Starlight, 128 GB)</td>\n",
       "      <td>₹52,499</td>\n",
       "    </tr>\n",
       "    <tr>\n",
       "      <th>1</th>\n",
       "      <td>APPLE iPhone 13 (Midnight, 128 GB)</td>\n",
       "      <td>₹52,499</td>\n",
       "    </tr>\n",
       "    <tr>\n",
       "      <th>2</th>\n",
       "      <td>APPLE iPhone 13 (Pink, 128 GB)</td>\n",
       "      <td>₹52,499</td>\n",
       "    </tr>\n",
       "    <tr>\n",
       "      <th>3</th>\n",
       "      <td>APPLE iPhone 13 (Blue, 128 GB)</td>\n",
       "      <td>₹52,499</td>\n",
       "    </tr>\n",
       "    <tr>\n",
       "      <th>4</th>\n",
       "      <td>APPLE iPhone 14 (Blue, 128 GB)</td>\n",
       "      <td>₹64,999</td>\n",
       "    </tr>\n",
       "    <tr>\n",
       "      <th>...</th>\n",
       "      <td>...</td>\n",
       "      <td>...</td>\n",
       "    </tr>\n",
       "    <tr>\n",
       "      <th>485</th>\n",
       "      <td>APPLE iPhone X (Silver, 256 GB)</td>\n",
       "      <td>₹1,06,900</td>\n",
       "    </tr>\n",
       "    <tr>\n",
       "      <th>486</th>\n",
       "      <td>APPLE iPhone 5C (Green, 8 GB)</td>\n",
       "      <td>₹37,500</td>\n",
       "    </tr>\n",
       "    <tr>\n",
       "      <th>487</th>\n",
       "      <td>APPLE iPhone 5C (Pink, 8 GB)</td>\n",
       "      <td>₹37,500</td>\n",
       "    </tr>\n",
       "    <tr>\n",
       "      <th>488</th>\n",
       "      <td>APPLE iPhone X (Space Gray, 256 GB)</td>\n",
       "      <td>₹1,06,900</td>\n",
       "    </tr>\n",
       "    <tr>\n",
       "      <th>489</th>\n",
       "      <td>APPLE iPhone 12 mini (Purple, 64 GB)</td>\n",
       "      <td>₹50,999</td>\n",
       "    </tr>\n",
       "  </tbody>\n",
       "</table>\n",
       "<p>490 rows × 2 columns</p>\n",
       "</div>"
      ],
      "text/plain": [
       "                                     name      price\n",
       "0     APPLE iPhone 13 (Starlight, 128 GB)    ₹52,499\n",
       "1      APPLE iPhone 13 (Midnight, 128 GB)    ₹52,499\n",
       "2          APPLE iPhone 13 (Pink, 128 GB)    ₹52,499\n",
       "3          APPLE iPhone 13 (Blue, 128 GB)    ₹52,499\n",
       "4          APPLE iPhone 14 (Blue, 128 GB)    ₹64,999\n",
       "..                                    ...        ...\n",
       "485       APPLE iPhone X (Silver, 256 GB)  ₹1,06,900\n",
       "486         APPLE iPhone 5C (Green, 8 GB)    ₹37,500\n",
       "487          APPLE iPhone 5C (Pink, 8 GB)    ₹37,500\n",
       "488   APPLE iPhone X (Space Gray, 256 GB)  ₹1,06,900\n",
       "489  APPLE iPhone 12 mini (Purple, 64 GB)    ₹50,999\n",
       "\n",
       "[490 rows x 2 columns]"
      ]
     },
     "execution_count": 6,
     "metadata": {},
     "output_type": "execute_result"
    }
   ],
   "source": [
    "d={'name':name, 'price':price}\n",
    "df = pd.DataFrame(d)\n",
    "df"
   ]
  },
  {
   "cell_type": "code",
   "execution_count": 7,
   "id": "164e4edb",
   "metadata": {},
   "outputs": [],
   "source": [
    "df.to_csv(\"{}.csv\".format(prod_name), index=False)"
   ]
  },
  {
   "cell_type": "code",
   "execution_count": null,
   "id": "d0a7dae9",
   "metadata": {},
   "outputs": [],
   "source": []
  }
 ],
 "metadata": {
  "kernelspec": {
   "display_name": "Python 3 (ipykernel)",
   "language": "python",
   "name": "python3"
  },
  "language_info": {
   "codemirror_mode": {
    "name": "ipython",
    "version": 3
   },
   "file_extension": ".py",
   "mimetype": "text/x-python",
   "name": "python",
   "nbconvert_exporter": "python",
   "pygments_lexer": "ipython3",
   "version": "3.9.12"
  }
 },
 "nbformat": 4,
 "nbformat_minor": 5
}
