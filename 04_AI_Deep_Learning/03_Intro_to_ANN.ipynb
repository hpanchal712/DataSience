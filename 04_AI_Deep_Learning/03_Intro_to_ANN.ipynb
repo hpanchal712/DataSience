{
 "cells": [
  {
   "cell_type": "code",
   "execution_count": 1,
   "id": "2acf8cd1",
   "metadata": {},
   "outputs": [
    {
     "data": {
      "text/plain": [
       "'2.14.0'"
      ]
     },
     "execution_count": 1,
     "metadata": {},
     "output_type": "execute_result"
    }
   ],
   "source": [
    "import tensorflow as tf\n",
    "tf.__version__"
   ]
  },
  {
   "cell_type": "code",
   "execution_count": 2,
   "id": "54c757fe",
   "metadata": {},
   "outputs": [
    {
     "data": {
      "text/plain": [
       "'2.14.0'"
      ]
     },
     "execution_count": 2,
     "metadata": {},
     "output_type": "execute_result"
    }
   ],
   "source": [
    "import keras as k\n",
    "k.__version__"
   ]
  },
  {
   "cell_type": "code",
   "execution_count": null,
   "id": "d7e35f74",
   "metadata": {},
   "outputs": [],
   "source": [
    "#Artificial Nueral Nw - you can have 2 to 3 hidden layers\n",
    "# input layer\n",
    "# hidden layr\n",
    "# output later - we have to use activation functions on output nodes\n",
    "\n",
    "# Linear\n",
    "# nlinear\n",
    " #1. Sigmoid - 0,1 (S-curve)\n",
    " #2. softmax - similar to sigmoid (calc probabilities of the event over n different classes)\n",
    " #3. tanh function is -1 to 1 otherwise it is same as sigmoid\n",
    " #4. relu - converts anything that is less than zero to zero. range becomes 0 to infinity \n",
    "\n",
    "# In the hidden layer --> most of the time relu is used\n",
    "# In output layer --> you can use sigmoid (in case of binary classification) or softmax (in case of multiple classification)\n",
    "\n",
    "# ANN doesn't have restriction on dataset\n",
    "\n",
    "# applications of ANN\n",
    "  # Image preprocessing and character recognition\n",
    "  # Forecasting\n",
    "  # Credit rating\n",
    "  # Fraud detection\n",
    "  # Portfolio Management\n",
    "    \n",
    "# nb of hidden layers depend on problem statement\n",
    "\n",
    "# Tensor = multi-dimensional data"
   ]
  },
  {
   "cell_type": "markdown",
   "id": "89c4a9ce",
   "metadata": {},
   "source": [
    "# Tensorflow"
   ]
  },
  {
   "cell_type": "markdown",
   "id": "238d1f4f",
   "metadata": {},
   "source": [
    "## Basic Operations\n",
    "\n",
    "#### Arithmatic operations"
   ]
  },
  {
   "cell_type": "code",
   "execution_count": 10,
   "id": "6e8fd608",
   "metadata": {},
   "outputs": [],
   "source": [
    "# Define tensor constants\n",
    "a = tf.constant(5)\n",
    "b = tf.constant(3)"
   ]
  },
  {
   "cell_type": "code",
   "execution_count": 11,
   "id": "a26480a9",
   "metadata": {},
   "outputs": [],
   "source": [
    "# various tensor operations\n",
    "\n",
    "add = tf.add(a,b)\n",
    "sub = tf.subtract(a, b)\n",
    "mul = tf.multiply(a, b)\n",
    "div = tf.divide(a,b)\n",
    "\n"
   ]
  },
  {
   "cell_type": "code",
   "execution_count": 12,
   "id": "92a4cdc1",
   "metadata": {},
   "outputs": [
    {
     "name": "stdout",
     "output_type": "stream",
     "text": [
      "add =  8\n",
      "sub =  2\n",
      "mul =  15\n",
      "div =  1.6666666666666667\n"
     ]
    }
   ],
   "source": [
    "# Access tensors value\n",
    "print('add = ', add.numpy())\n",
    "print('sub = ', sub.numpy())\n",
    "print('mul = ', mul.numpy())\n",
    "print('div = ', div.numpy())"
   ]
  },
  {
   "cell_type": "code",
   "execution_count": 13,
   "id": "13cd9091",
   "metadata": {},
   "outputs": [
    {
     "data": {
      "text/plain": [
       "<tf.Tensor: shape=(), dtype=int32, numpy=8>"
      ]
     },
     "execution_count": 13,
     "metadata": {},
     "output_type": "execute_result"
    }
   ],
   "source": [
    "add"
   ]
  },
  {
   "cell_type": "code",
   "execution_count": 14,
   "id": "0b2bf3d5",
   "metadata": {},
   "outputs": [
    {
     "data": {
      "text/plain": [
       "8"
      ]
     },
     "execution_count": 14,
     "metadata": {},
     "output_type": "execute_result"
    }
   ],
   "source": [
    "add.numpy()"
   ]
  },
  {
   "cell_type": "markdown",
   "id": "ac9bf1a1",
   "metadata": {},
   "source": [
    "### Matrix multiplication"
   ]
  },
  {
   "cell_type": "code",
   "execution_count": 16,
   "id": "ef1a2b81",
   "metadata": {},
   "outputs": [],
   "source": [
    "matrix1 = tf.constant([[1,2],[3,4]])\n",
    "matrix2 = tf.constant([[5,6],[7,8]])\n",
    "\n",
    "product = tf.matmul(matrix1, matrix2)\n"
   ]
  },
  {
   "cell_type": "code",
   "execution_count": 17,
   "id": "cc7a81af",
   "metadata": {},
   "outputs": [
    {
     "data": {
      "text/plain": [
       "array([[19, 22],\n",
       "       [43, 50]])"
      ]
     },
     "execution_count": 17,
     "metadata": {},
     "output_type": "execute_result"
    }
   ],
   "source": [
    "product.numpy()"
   ]
  },
  {
   "cell_type": "code",
   "execution_count": 19,
   "id": "0860dfff",
   "metadata": {},
   "outputs": [],
   "source": [
    "# tf supports all variable types\n",
    "# default is tf.int32 and tf.float32\n",
    "t1 = tf.Variable(32) # tensor variable"
   ]
  },
  {
   "cell_type": "code",
   "execution_count": 20,
   "id": "f0bcf7b2",
   "metadata": {},
   "outputs": [
    {
     "data": {
      "text/plain": [
       "tensorflow.python.ops.resource_variable_ops.ResourceVariable"
      ]
     },
     "execution_count": 20,
     "metadata": {},
     "output_type": "execute_result"
    }
   ],
   "source": [
    "type(t1)"
   ]
  },
  {
   "cell_type": "code",
   "execution_count": 21,
   "id": "6480fcef",
   "metadata": {},
   "outputs": [
    {
     "name": "stdout",
     "output_type": "stream",
     "text": [
      "<tf.Variable 'Variable:0' shape=() dtype=int32, numpy=32>\n",
      "<dtype: 'int32'>\n"
     ]
    }
   ],
   "source": [
    "print(t1)\n",
    "print(t1.dtype)"
   ]
  },
  {
   "cell_type": "code",
   "execution_count": 23,
   "id": "9a9f4175",
   "metadata": {},
   "outputs": [
    {
     "data": {
      "text/plain": [
       "<tf.Variable 'Variable:0' shape=() dtype=float32, numpy=89.0>"
      ]
     },
     "execution_count": 23,
     "metadata": {},
     "output_type": "execute_result"
    }
   ],
   "source": [
    "f1 = tf.Variable(89.)\n",
    "f1"
   ]
  },
  {
   "cell_type": "code",
   "execution_count": 25,
   "id": "1f3578f0",
   "metadata": {},
   "outputs": [
    {
     "data": {
      "text/plain": [
       "<tf.Variable 'Variable:0' shape=() dtype=float32, numpy=98.0>"
      ]
     },
     "execution_count": 25,
     "metadata": {},
     "output_type": "execute_result"
    }
   ],
   "source": [
    "f1.assign(98.)\n",
    "f1"
   ]
  },
  {
   "cell_type": "code",
   "execution_count": 26,
   "id": "a08c251f",
   "metadata": {},
   "outputs": [
    {
     "data": {
      "text/plain": [
       "tf.float64"
      ]
     },
     "execution_count": 26,
     "metadata": {},
     "output_type": "execute_result"
    }
   ],
   "source": [
    "# specifying dtype\n",
    "f64 = tf.Variable(89, dtype=tf.float64)\n",
    "f64.dtype"
   ]
  },
  {
   "cell_type": "code",
   "execution_count": 28,
   "id": "fe6479fd",
   "metadata": {},
   "outputs": [
    {
     "data": {
      "text/plain": [
       "<tf.Variable 'Variable:0' shape=(2, 2, 3) dtype=float32, numpy=\n",
       "array([[[ 0.,  1.,  2.],\n",
       "        [ 3.,  4.,  5.]],\n",
       "\n",
       "       [[ 6.,  7.,  8.],\n",
       "        [ 9., 10., 11.]]], dtype=float32)>"
      ]
     },
     "execution_count": 28,
     "metadata": {},
     "output_type": "execute_result"
    }
   ],
   "source": [
    "# The rank (dimensions) of a tensor\n",
    "t2 = tf.Variable([[[0., 1., 2.], [3., 4., 5.] ], [[6., 7., 8.], [9., 10., 11.]]])\n",
    "t2"
   ]
  },
  {
   "cell_type": "code",
   "execution_count": 31,
   "id": "16f6ff50",
   "metadata": {},
   "outputs": [
    {
     "data": {
      "text/plain": [
       "<tf.Tensor: shape=(), dtype=int32, numpy=3>"
      ]
     },
     "execution_count": 31,
     "metadata": {},
     "output_type": "execute_result"
    }
   ],
   "source": [
    "tf.rank(t2)"
   ]
  },
  {
   "cell_type": "code",
   "execution_count": 35,
   "id": "9dc73b64",
   "metadata": {},
   "outputs": [],
   "source": [
    "tf.rank?"
   ]
  },
  {
   "cell_type": "code",
   "execution_count": 32,
   "id": "df55f12c",
   "metadata": {
    "scrolled": true
   },
   "outputs": [
    {
     "name": "stdout",
     "output_type": "stream",
     "text": [
      "(2, 2, 3)\n"
     ]
    }
   ],
   "source": [
    "print(t2.shape)"
   ]
  },
  {
   "cell_type": "code",
   "execution_count": 33,
   "id": "0d234cd1",
   "metadata": {},
   "outputs": [
    {
     "data": {
      "text/plain": [
       "11.0"
      ]
     },
     "execution_count": 33,
     "metadata": {},
     "output_type": "execute_result"
    }
   ],
   "source": [
    "t2[1,1,2].numpy()"
   ]
  },
  {
   "cell_type": "code",
   "execution_count": 29,
   "id": "4fd65a42",
   "metadata": {},
   "outputs": [
    {
     "data": {
      "text/plain": [
       "<tf.Variable 'Variable:0' shape=() dtype=string, numpy=b'india'>"
      ]
     },
     "execution_count": 29,
     "metadata": {},
     "output_type": "execute_result"
    }
   ],
   "source": [
    "country = tf.Variable('india', dtype=tf.string)\n",
    "country"
   ]
  },
  {
   "cell_type": "code",
   "execution_count": 30,
   "id": "04fb2419",
   "metadata": {},
   "outputs": [
    {
     "data": {
      "text/plain": [
       "b'india'"
      ]
     },
     "execution_count": 30,
     "metadata": {},
     "output_type": "execute_result"
    }
   ],
   "source": [
    "country.numpy()"
   ]
  },
  {
   "cell_type": "code",
   "execution_count": 34,
   "id": "7a779c0b",
   "metadata": {},
   "outputs": [
    {
     "name": "stdout",
     "output_type": "stream",
     "text": [
      "tf.Tensor([[1. 1. 1. 1. 1.]], shape=(1, 5), dtype=float32)\n"
     ]
    }
   ],
   "source": [
    "y = tf.ones((1,5))\n",
    "print(y)"
   ]
  },
  {
   "cell_type": "code",
   "execution_count": 36,
   "id": "a89a4dbe",
   "metadata": {},
   "outputs": [
    {
     "data": {
      "text/plain": [
       "12"
      ]
     },
     "execution_count": 36,
     "metadata": {},
     "output_type": "execute_result"
    }
   ],
   "source": [
    "# find the size (total nb of elements) of a tensor\n",
    "s = tf.size(input=t2).numpy()\n",
    "s"
   ]
  },
  {
   "cell_type": "code",
   "execution_count": 37,
   "id": "da9a808e",
   "metadata": {},
   "outputs": [
    {
     "name": "stdout",
     "output_type": "stream",
     "text": [
      "[[[ 0.  1.  2.]\n",
      "  [ 3.  4.  5.]]\n",
      "\n",
      " [[ 6.  7.  8.]\n",
      "  [ 9. 10. 11.]]]\n"
     ]
    }
   ],
   "source": [
    "# casting tensor to numpy variable\n",
    "print(t2.numpy())"
   ]
  },
  {
   "cell_type": "code",
   "execution_count": 38,
   "id": "c151ea11",
   "metadata": {},
   "outputs": [
    {
     "name": "stdout",
     "output_type": "stream",
     "text": [
      "7.0\n"
     ]
    }
   ],
   "source": [
    "# Specify an element of a tensor\n",
    "print(t2[1,0,1].numpy())"
   ]
  },
  {
   "cell_type": "code",
   "execution_count": 39,
   "id": "ff0d2de2",
   "metadata": {},
   "outputs": [],
   "source": [
    "x = tf.constant(4.0, dtype='float32')"
   ]
  },
  {
   "cell_type": "code",
   "execution_count": 40,
   "id": "ab1a219e",
   "metadata": {},
   "outputs": [
    {
     "name": "stdout",
     "output_type": "stream",
     "text": [
      "tf.Tensor(2.0, shape=(), dtype=float32)\n"
     ]
    }
   ],
   "source": [
    "print(tf.sqrt(x))"
   ]
  },
  {
   "cell_type": "code",
   "execution_count": 41,
   "id": "901b79da",
   "metadata": {},
   "outputs": [
    {
     "name": "stdout",
     "output_type": "stream",
     "text": [
      "tf.Tensor(2.0, shape=(), dtype=float32)\n"
     ]
    }
   ],
   "source": [
    "x = tf.Variable(4.0)\n",
    "print(tf.sqrt(x))"
   ]
  },
  {
   "cell_type": "code",
   "execution_count": 42,
   "id": "270fb8bc",
   "metadata": {},
   "outputs": [
    {
     "name": "stdout",
     "output_type": "stream",
     "text": [
      "tf.Tensor(54.59815, shape=(), dtype=float32)\n"
     ]
    }
   ],
   "source": [
    "print(tf.exp(x))"
   ]
  },
  {
   "cell_type": "code",
   "execution_count": 43,
   "id": "a308881a",
   "metadata": {},
   "outputs": [
    {
     "data": {
      "text/plain": [
       "<tf.Tensor: shape=(), dtype=int32, numpy=8>"
      ]
     },
     "execution_count": 43,
     "metadata": {},
     "output_type": "execute_result"
    }
   ],
   "source": [
    "tf.pow(2,3)"
   ]
  },
  {
   "cell_type": "code",
   "execution_count": 45,
   "id": "2ccf2846",
   "metadata": {},
   "outputs": [
    {
     "data": {
      "text/plain": [
       "array([1, 3, 5, 7, 9])"
      ]
     },
     "execution_count": 45,
     "metadata": {},
     "output_type": "execute_result"
    }
   ],
   "source": [
    "d = tf.range(1,10,2)\n",
    "d.numpy()"
   ]
  },
  {
   "cell_type": "code",
   "execution_count": 48,
   "id": "f171e239",
   "metadata": {},
   "outputs": [],
   "source": [
    "# reshape\n",
    "k = tf.constant([1,2,3,4,5,6])\n",
    "l = tf.reshape(k,[2,3])"
   ]
  },
  {
   "cell_type": "code",
   "execution_count": 49,
   "id": "09199b37",
   "metadata": {},
   "outputs": [
    {
     "data": {
      "text/plain": [
       "<tf.Tensor: shape=(2, 3), dtype=int32, numpy=\n",
       "array([[1, 2, 3],\n",
       "       [4, 5, 6]])>"
      ]
     },
     "execution_count": 49,
     "metadata": {},
     "output_type": "execute_result"
    }
   ],
   "source": [
    "l"
   ]
  },
  {
   "cell_type": "code",
   "execution_count": null,
   "id": "9a49f6e1",
   "metadata": {},
   "outputs": [],
   "source": []
  }
 ],
 "metadata": {
  "kernelspec": {
   "display_name": "Python 3 (ipykernel)",
   "language": "python",
   "name": "python3"
  },
  "language_info": {
   "codemirror_mode": {
    "name": "ipython",
    "version": 3
   },
   "file_extension": ".py",
   "mimetype": "text/x-python",
   "name": "python",
   "nbconvert_exporter": "python",
   "pygments_lexer": "ipython3",
   "version": "3.9.12"
  }
 },
 "nbformat": 4,
 "nbformat_minor": 5
}
