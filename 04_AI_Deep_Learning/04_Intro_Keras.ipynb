{
 "cells": [
  {
   "cell_type": "code",
   "execution_count": 1,
   "id": "97725855",
   "metadata": {},
   "outputs": [],
   "source": [
    "# import library\n",
    "import keras as k"
   ]
  },
  {
   "cell_type": "code",
   "execution_count": 2,
   "id": "e1c3be9c",
   "metadata": {},
   "outputs": [
    {
     "data": {
      "text/plain": [
       "'2.14.0'"
      ]
     },
     "execution_count": 2,
     "metadata": {},
     "output_type": "execute_result"
    }
   ],
   "source": [
    "k.__version__"
   ]
  },
  {
   "cell_type": "markdown",
   "id": "99313d90",
   "metadata": {},
   "source": [
    "# Developing Deep Learning Models with Keras"
   ]
  },
  {
   "cell_type": "code",
   "execution_count": 3,
   "id": "191be524",
   "metadata": {},
   "outputs": [],
   "source": [
    "# load data\n",
    "# preprocessing\n",
    "# define your model - add layers\n",
    "# compile mode - specify loss functions (errors) and optimizers (reduce the loss and increse performance)\n",
    "# fit your model \n",
    "# make predictions (generate prediction on new data)"
   ]
  },
  {
   "cell_type": "code",
   "execution_count": 4,
   "id": "b75f9042",
   "metadata": {},
   "outputs": [],
   "source": [
    "from keras.models import Sequential\n",
    "from keras.layers import Dense\n",
    "import numpy\n",
    "\n",
    "# fix random seed for reproducibility\n",
    "# numpy.random.seed(7)"
   ]
  },
  {
   "cell_type": "code",
   "execution_count": 5,
   "id": "0200237e",
   "metadata": {},
   "outputs": [],
   "source": [
    "# load pima Indians dataset\n",
    "data = numpy.loadtxt('pima-indians-diabetes.csv',delimiter=',')\n",
    "\n",
    "# split into input(x) and output(Y) variables\n",
    "X = data[:,0:8]\n",
    "Y = data[:,8]"
   ]
  },
  {
   "cell_type": "code",
   "execution_count": 7,
   "id": "f7a92a4b",
   "metadata": {},
   "outputs": [
    {
     "data": {
      "text/plain": [
       "array([[  6.   , 148.   ,  72.   , ...,   0.627,  50.   ,   1.   ],\n",
       "       [  1.   ,  85.   ,  66.   , ...,   0.351,  31.   ,   0.   ],\n",
       "       [  8.   , 183.   ,  64.   , ...,   0.672,  32.   ,   1.   ],\n",
       "       ...,\n",
       "       [  5.   , 121.   ,  72.   , ...,   0.245,  30.   ,   0.   ],\n",
       "       [  1.   , 126.   ,  60.   , ...,   0.349,  47.   ,   1.   ],\n",
       "       [  1.   ,  93.   ,  70.   , ...,   0.315,  23.   ,   0.   ]])"
      ]
     },
     "execution_count": 7,
     "metadata": {},
     "output_type": "execute_result"
    }
   ],
   "source": [
    "data"
   ]
  },
  {
   "cell_type": "code",
   "execution_count": 8,
   "id": "30c6e51c",
   "metadata": {},
   "outputs": [],
   "source": [
    "# we have initiatized our random number generator to ensure our results are reproducible and loaded our data.\n",
    "# we are ready to define our neural network model\n"
   ]
  },
  {
   "cell_type": "markdown",
   "id": "285e155b",
   "metadata": {},
   "source": [
    "## Define model"
   ]
  },
  {
   "cell_type": "code",
   "execution_count": 9,
   "id": "8162166b",
   "metadata": {},
   "outputs": [],
   "source": [
    "# create model\n",
    "model = Sequential()\n",
    "model.add(Dense(12, input_dim=8, activation='relu'))\n",
    "model.add(Dense(8, activation='relu'))\n",
    "model.add(Dense(1, activation='sigmoid'))"
   ]
  },
  {
   "cell_type": "code",
   "execution_count": 10,
   "id": "1b3b2642",
   "metadata": {},
   "outputs": [
    {
     "name": "stdout",
     "output_type": "stream",
     "text": [
      "Model: \"sequential\"\n",
      "_________________________________________________________________\n",
      " Layer (type)                Output Shape              Param #   \n",
      "=================================================================\n",
      " dense (Dense)               (None, 12)                108       \n",
      "                                                                 \n",
      " dense_1 (Dense)             (None, 8)                 104       \n",
      "                                                                 \n",
      " dense_2 (Dense)             (None, 1)                 9         \n",
      "                                                                 \n",
      "=================================================================\n",
      "Total params: 221 (884.00 Byte)\n",
      "Trainable params: 221 (884.00 Byte)\n",
      "Non-trainable params: 0 (0.00 Byte)\n",
      "_________________________________________________________________\n"
     ]
    }
   ],
   "source": [
    "model.summary()"
   ]
  },
  {
   "cell_type": "code",
   "execution_count": 11,
   "id": "598c0484",
   "metadata": {},
   "outputs": [],
   "source": [
    "# paramter_number = output_channel_number * (input_channel_number + 1)\n"
   ]
  },
  {
   "cell_type": "markdown",
   "id": "aa972c66",
   "metadata": {},
   "source": [
    "## Compile the model"
   ]
  },
  {
   "cell_type": "code",
   "execution_count": 12,
   "id": "1bd34bc9",
   "metadata": {},
   "outputs": [],
   "source": [
    "# 3 paramters to be provided: loss function, Optimizer\n",
    "\n",
    "# loss functions:\n",
    "# 1. Regression (numeric): Mean Squared Error or mean squared error\n",
    "# 2. Binary Classification (2 class): logaithmic loss, also called cross entropy or binary crossentropy\n",
    "# 3. Multiclass Classification (>2 class): Multiclass Logarithmic Loass or categorical crossentropy\n",
    "\n",
    "# Optimizers:\n",
    "# Stochastic Gradient Descent or sgd: requires tuning of a learning rate and momentum\n",
    "# Adam or adam: mostly used. requires the tuning of learning rate\n",
    "# RMSprop or rmsprop (numeric problem): requires tuning of learning rate- how much model should learn in each iterations\n",
    "\n",
    "model.compile(loss='binary_crossentropy', optimizer='adam', metrics=['accuracy'])"
   ]
  },
  {
   "cell_type": "markdown",
   "id": "9c2262ce",
   "metadata": {},
   "source": [
    "## Fit Model"
   ]
  },
  {
   "cell_type": "code",
   "execution_count": 13,
   "id": "bfcb32cd",
   "metadata": {},
   "outputs": [
    {
     "name": "stdout",
     "output_type": "stream",
     "text": [
      "Epoch 1/150\n",
      "77/77 [==============================] - 1s 3ms/step - loss: 6.0658 - accuracy: 0.5013\n",
      "Epoch 2/150\n",
      "77/77 [==============================] - 0s 4ms/step - loss: 1.6232 - accuracy: 0.6289\n",
      "Epoch 3/150\n",
      "77/77 [==============================] - 0s 4ms/step - loss: 0.9158 - accuracy: 0.6497\n",
      "Epoch 4/150\n",
      "77/77 [==============================] - 0s 3ms/step - loss: 0.7707 - accuracy: 0.6589\n",
      "Epoch 5/150\n",
      "77/77 [==============================] - 0s 3ms/step - loss: 0.7351 - accuracy: 0.6510\n",
      "Epoch 6/150\n",
      "77/77 [==============================] - 0s 3ms/step - loss: 0.7052 - accuracy: 0.6549\n",
      "Epoch 7/150\n",
      "77/77 [==============================] - 0s 3ms/step - loss: 0.6770 - accuracy: 0.6706\n",
      "Epoch 8/150\n",
      "77/77 [==============================] - 0s 3ms/step - loss: 0.6663 - accuracy: 0.6628\n",
      "Epoch 9/150\n",
      "77/77 [==============================] - 0s 4ms/step - loss: 0.6721 - accuracy: 0.6628\n",
      "Epoch 10/150\n",
      "77/77 [==============================] - 0s 3ms/step - loss: 0.6583 - accuracy: 0.6680\n",
      "Epoch 11/150\n",
      "77/77 [==============================] - 0s 4ms/step - loss: 0.6489 - accuracy: 0.6654\n",
      "Epoch 12/150\n",
      "77/77 [==============================] - 0s 5ms/step - loss: 0.6436 - accuracy: 0.6641\n",
      "Epoch 13/150\n",
      "77/77 [==============================] - 0s 4ms/step - loss: 0.6426 - accuracy: 0.6641\n",
      "Epoch 14/150\n",
      "77/77 [==============================] - 0s 3ms/step - loss: 0.6479 - accuracy: 0.6576\n",
      "Epoch 15/150\n",
      "77/77 [==============================] - 0s 3ms/step - loss: 0.6208 - accuracy: 0.6706\n",
      "Epoch 16/150\n",
      "77/77 [==============================] - 0s 4ms/step - loss: 0.6213 - accuracy: 0.6628\n",
      "Epoch 17/150\n",
      "77/77 [==============================] - 0s 3ms/step - loss: 0.6102 - accuracy: 0.6771\n",
      "Epoch 18/150\n",
      "77/77 [==============================] - 0s 4ms/step - loss: 0.6289 - accuracy: 0.6641\n",
      "Epoch 19/150\n",
      "77/77 [==============================] - 0s 4ms/step - loss: 0.6106 - accuracy: 0.6693\n",
      "Epoch 20/150\n",
      "77/77 [==============================] - 0s 4ms/step - loss: 0.6149 - accuracy: 0.6680\n",
      "Epoch 21/150\n",
      "77/77 [==============================] - 0s 3ms/step - loss: 0.6104 - accuracy: 0.6771\n",
      "Epoch 22/150\n",
      "77/77 [==============================] - 0s 4ms/step - loss: 0.6014 - accuracy: 0.6810\n",
      "Epoch 23/150\n",
      "77/77 [==============================] - 0s 3ms/step - loss: 0.6132 - accuracy: 0.6732\n",
      "Epoch 24/150\n",
      "77/77 [==============================] - 0s 3ms/step - loss: 0.6100 - accuracy: 0.6667\n",
      "Epoch 25/150\n",
      "77/77 [==============================] - 0s 3ms/step - loss: 0.5987 - accuracy: 0.6693\n",
      "Epoch 26/150\n",
      "77/77 [==============================] - 0s 3ms/step - loss: 0.6073 - accuracy: 0.6732\n",
      "Epoch 27/150\n",
      "77/77 [==============================] - 0s 3ms/step - loss: 0.6023 - accuracy: 0.6654\n",
      "Epoch 28/150\n",
      "77/77 [==============================] - 0s 3ms/step - loss: 0.5968 - accuracy: 0.6706\n",
      "Epoch 29/150\n",
      "77/77 [==============================] - 0s 3ms/step - loss: 0.6061 - accuracy: 0.6654\n",
      "Epoch 30/150\n",
      "77/77 [==============================] - 0s 5ms/step - loss: 0.5917 - accuracy: 0.6758\n",
      "Epoch 31/150\n",
      "77/77 [==============================] - 0s 3ms/step - loss: 0.5939 - accuracy: 0.6823\n",
      "Epoch 32/150\n",
      "77/77 [==============================] - 0s 4ms/step - loss: 0.5921 - accuracy: 0.6797\n",
      "Epoch 33/150\n",
      "77/77 [==============================] - 0s 3ms/step - loss: 0.6084 - accuracy: 0.6549\n",
      "Epoch 34/150\n",
      "77/77 [==============================] - 0s 4ms/step - loss: 0.5955 - accuracy: 0.6680\n",
      "Epoch 35/150\n",
      "77/77 [==============================] - 0s 3ms/step - loss: 0.5993 - accuracy: 0.6732\n",
      "Epoch 36/150\n",
      "77/77 [==============================] - 0s 3ms/step - loss: 0.5808 - accuracy: 0.6771\n",
      "Epoch 37/150\n",
      "77/77 [==============================] - 0s 4ms/step - loss: 0.6068 - accuracy: 0.6615\n",
      "Epoch 38/150\n",
      "77/77 [==============================] - 0s 3ms/step - loss: 0.5856 - accuracy: 0.6758\n",
      "Epoch 39/150\n",
      "77/77 [==============================] - 0s 3ms/step - loss: 0.5849 - accuracy: 0.6732\n",
      "Epoch 40/150\n",
      "77/77 [==============================] - 0s 3ms/step - loss: 0.5868 - accuracy: 0.6810\n",
      "Epoch 41/150\n",
      "77/77 [==============================] - 0s 4ms/step - loss: 0.5936 - accuracy: 0.6758\n",
      "Epoch 42/150\n",
      "77/77 [==============================] - 0s 3ms/step - loss: 0.5821 - accuracy: 0.6706\n",
      "Epoch 43/150\n",
      "77/77 [==============================] - 0s 3ms/step - loss: 0.6009 - accuracy: 0.6719\n",
      "Epoch 44/150\n",
      "77/77 [==============================] - 0s 5ms/step - loss: 0.5857 - accuracy: 0.6745\n",
      "Epoch 45/150\n",
      "77/77 [==============================] - 0s 3ms/step - loss: 0.5864 - accuracy: 0.6680\n",
      "Epoch 46/150\n",
      "77/77 [==============================] - 0s 3ms/step - loss: 0.5812 - accuracy: 0.6732\n",
      "Epoch 47/150\n",
      "77/77 [==============================] - 0s 4ms/step - loss: 0.5773 - accuracy: 0.6849\n",
      "Epoch 48/150\n",
      "77/77 [==============================] - 0s 3ms/step - loss: 0.5884 - accuracy: 0.6719\n",
      "Epoch 49/150\n",
      "77/77 [==============================] - 0s 3ms/step - loss: 0.5889 - accuracy: 0.6771\n",
      "Epoch 50/150\n",
      "77/77 [==============================] - 0s 5ms/step - loss: 0.5805 - accuracy: 0.6732\n",
      "Epoch 51/150\n",
      "77/77 [==============================] - 0s 3ms/step - loss: 0.5851 - accuracy: 0.6771\n",
      "Epoch 52/150\n",
      "77/77 [==============================] - 0s 4ms/step - loss: 0.5772 - accuracy: 0.6745\n",
      "Epoch 53/150\n",
      "77/77 [==============================] - 0s 3ms/step - loss: 0.5750 - accuracy: 0.6745\n",
      "Epoch 54/150\n",
      "77/77 [==============================] - 0s 3ms/step - loss: 0.5820 - accuracy: 0.6888\n",
      "Epoch 55/150\n",
      "77/77 [==============================] - 0s 3ms/step - loss: 0.5759 - accuracy: 0.6797\n",
      "Epoch 56/150\n",
      "77/77 [==============================] - 0s 4ms/step - loss: 0.5860 - accuracy: 0.6758\n",
      "Epoch 57/150\n",
      "77/77 [==============================] - 0s 4ms/step - loss: 0.5782 - accuracy: 0.6823\n",
      "Epoch 58/150\n",
      "77/77 [==============================] - 0s 3ms/step - loss: 0.5763 - accuracy: 0.6797\n",
      "Epoch 59/150\n",
      "77/77 [==============================] - 0s 3ms/step - loss: 0.5779 - accuracy: 0.6797\n",
      "Epoch 60/150\n",
      "77/77 [==============================] - 0s 3ms/step - loss: 0.5794 - accuracy: 0.6784\n",
      "Epoch 61/150\n",
      "77/77 [==============================] - 0s 4ms/step - loss: 0.5838 - accuracy: 0.6823\n",
      "Epoch 62/150\n",
      "77/77 [==============================] - 0s 4ms/step - loss: 0.5794 - accuracy: 0.6745\n",
      "Epoch 63/150\n",
      "77/77 [==============================] - 0s 4ms/step - loss: 0.5709 - accuracy: 0.6875\n",
      "Epoch 64/150\n",
      "77/77 [==============================] - 0s 4ms/step - loss: 0.5826 - accuracy: 0.6875\n",
      "Epoch 65/150\n",
      "77/77 [==============================] - 0s 5ms/step - loss: 0.5870 - accuracy: 0.6784\n",
      "Epoch 66/150\n",
      "77/77 [==============================] - 0s 3ms/step - loss: 0.5785 - accuracy: 0.6810\n",
      "Epoch 67/150\n",
      "77/77 [==============================] - 0s 3ms/step - loss: 0.5832 - accuracy: 0.6758\n",
      "Epoch 68/150\n",
      "77/77 [==============================] - 0s 3ms/step - loss: 0.5729 - accuracy: 0.6914\n",
      "Epoch 69/150\n",
      "77/77 [==============================] - 0s 3ms/step - loss: 0.5789 - accuracy: 0.6706\n",
      "Epoch 70/150\n",
      "77/77 [==============================] - 0s 3ms/step - loss: 0.5804 - accuracy: 0.6810\n",
      "Epoch 71/150\n",
      "77/77 [==============================] - 0s 4ms/step - loss: 0.5749 - accuracy: 0.6732\n",
      "Epoch 72/150\n",
      "77/77 [==============================] - 0s 3ms/step - loss: 0.5722 - accuracy: 0.6836\n",
      "Epoch 73/150\n",
      "77/77 [==============================] - 0s 3ms/step - loss: 0.5851 - accuracy: 0.6706\n",
      "Epoch 74/150\n",
      "77/77 [==============================] - 0s 3ms/step - loss: 0.5703 - accuracy: 0.6927\n",
      "Epoch 75/150\n",
      "77/77 [==============================] - 0s 4ms/step - loss: 0.5781 - accuracy: 0.6810\n",
      "Epoch 76/150\n",
      "77/77 [==============================] - 0s 3ms/step - loss: 0.5713 - accuracy: 0.6797\n",
      "Epoch 77/150\n",
      "77/77 [==============================] - 0s 4ms/step - loss: 0.5681 - accuracy: 0.6758\n",
      "Epoch 78/150\n",
      "77/77 [==============================] - 0s 4ms/step - loss: 0.5772 - accuracy: 0.6836\n",
      "Epoch 79/150\n",
      "77/77 [==============================] - 0s 3ms/step - loss: 0.5694 - accuracy: 0.6849\n",
      "Epoch 80/150\n",
      "77/77 [==============================] - 0s 3ms/step - loss: 0.5759 - accuracy: 0.6797\n",
      "Epoch 81/150\n",
      "77/77 [==============================] - 0s 3ms/step - loss: 0.5689 - accuracy: 0.6810\n",
      "Epoch 82/150\n",
      "77/77 [==============================] - 0s 4ms/step - loss: 0.5661 - accuracy: 0.6836\n",
      "Epoch 83/150\n"
     ]
    },
    {
     "name": "stdout",
     "output_type": "stream",
     "text": [
      "77/77 [==============================] - 0s 3ms/step - loss: 0.5778 - accuracy: 0.6784\n",
      "Epoch 84/150\n",
      "77/77 [==============================] - 0s 3ms/step - loss: 0.5680 - accuracy: 0.6888\n",
      "Epoch 85/150\n",
      "77/77 [==============================] - 0s 3ms/step - loss: 0.5880 - accuracy: 0.6836\n",
      "Epoch 86/150\n",
      "77/77 [==============================] - 0s 3ms/step - loss: 0.5739 - accuracy: 0.6797\n",
      "Epoch 87/150\n",
      "77/77 [==============================] - 0s 3ms/step - loss: 0.5669 - accuracy: 0.6823\n",
      "Epoch 88/150\n",
      "77/77 [==============================] - 0s 3ms/step - loss: 0.5660 - accuracy: 0.6849\n",
      "Epoch 89/150\n",
      "77/77 [==============================] - 0s 3ms/step - loss: 0.5737 - accuracy: 0.6758\n",
      "Epoch 90/150\n",
      "77/77 [==============================] - 0s 3ms/step - loss: 0.5762 - accuracy: 0.6875\n",
      "Epoch 91/150\n",
      "77/77 [==============================] - 0s 3ms/step - loss: 0.5699 - accuracy: 0.6875\n",
      "Epoch 92/150\n",
      "77/77 [==============================] - 0s 3ms/step - loss: 0.5652 - accuracy: 0.6849\n",
      "Epoch 93/150\n",
      "77/77 [==============================] - 0s 3ms/step - loss: 0.5708 - accuracy: 0.6849\n",
      "Epoch 94/150\n",
      "77/77 [==============================] - 0s 3ms/step - loss: 0.5741 - accuracy: 0.6810\n",
      "Epoch 95/150\n",
      "77/77 [==============================] - 0s 3ms/step - loss: 0.5674 - accuracy: 0.6849\n",
      "Epoch 96/150\n",
      "77/77 [==============================] - 0s 3ms/step - loss: 0.5717 - accuracy: 0.6797\n",
      "Epoch 97/150\n",
      "77/77 [==============================] - 0s 3ms/step - loss: 0.5666 - accuracy: 0.6797\n",
      "Epoch 98/150\n",
      "77/77 [==============================] - 0s 3ms/step - loss: 0.5645 - accuracy: 0.6901\n",
      "Epoch 99/150\n",
      "77/77 [==============================] - 0s 3ms/step - loss: 0.5667 - accuracy: 0.6797\n",
      "Epoch 100/150\n",
      "77/77 [==============================] - 0s 3ms/step - loss: 0.5770 - accuracy: 0.6875\n",
      "Epoch 101/150\n",
      "77/77 [==============================] - 0s 3ms/step - loss: 0.5713 - accuracy: 0.6771\n",
      "Epoch 102/150\n",
      "77/77 [==============================] - 0s 3ms/step - loss: 0.5636 - accuracy: 0.6888\n",
      "Epoch 103/150\n",
      "77/77 [==============================] - 0s 4ms/step - loss: 0.5664 - accuracy: 0.6758\n",
      "Epoch 104/150\n",
      "77/77 [==============================] - 0s 3ms/step - loss: 0.5653 - accuracy: 0.6914\n",
      "Epoch 105/150\n",
      "77/77 [==============================] - 0s 3ms/step - loss: 0.5648 - accuracy: 0.6849\n",
      "Epoch 106/150\n",
      "77/77 [==============================] - 0s 3ms/step - loss: 0.5678 - accuracy: 0.6732\n",
      "Epoch 107/150\n",
      "77/77 [==============================] - 0s 3ms/step - loss: 0.5647 - accuracy: 0.6849\n",
      "Epoch 108/150\n",
      "77/77 [==============================] - 0s 3ms/step - loss: 0.5605 - accuracy: 0.6862\n",
      "Epoch 109/150\n",
      "77/77 [==============================] - 0s 3ms/step - loss: 0.5640 - accuracy: 0.6914\n",
      "Epoch 110/150\n",
      "77/77 [==============================] - 0s 3ms/step - loss: 0.5703 - accuracy: 0.6706\n",
      "Epoch 111/150\n",
      "77/77 [==============================] - 0s 3ms/step - loss: 0.5621 - accuracy: 0.6901\n",
      "Epoch 112/150\n",
      "77/77 [==============================] - 0s 3ms/step - loss: 0.5678 - accuracy: 0.6732\n",
      "Epoch 113/150\n",
      "77/77 [==============================] - 0s 3ms/step - loss: 0.5601 - accuracy: 0.6953\n",
      "Epoch 114/150\n",
      "77/77 [==============================] - 0s 3ms/step - loss: 0.5761 - accuracy: 0.6823\n",
      "Epoch 115/150\n",
      "77/77 [==============================] - 0s 3ms/step - loss: 0.5628 - accuracy: 0.6836\n",
      "Epoch 116/150\n",
      "77/77 [==============================] - 0s 3ms/step - loss: 0.5642 - accuracy: 0.6901\n",
      "Epoch 117/150\n",
      "77/77 [==============================] - 0s 3ms/step - loss: 0.5672 - accuracy: 0.6862\n",
      "Epoch 118/150\n",
      "77/77 [==============================] - 0s 3ms/step - loss: 0.5688 - accuracy: 0.6784\n",
      "Epoch 119/150\n",
      "77/77 [==============================] - 0s 3ms/step - loss: 0.5628 - accuracy: 0.6888\n",
      "Epoch 120/150\n",
      "77/77 [==============================] - 0s 3ms/step - loss: 0.5564 - accuracy: 0.6901\n",
      "Epoch 121/150\n",
      "77/77 [==============================] - 0s 3ms/step - loss: 0.5668 - accuracy: 0.6758\n",
      "Epoch 122/150\n",
      "77/77 [==============================] - 0s 3ms/step - loss: 0.5645 - accuracy: 0.6823\n",
      "Epoch 123/150\n",
      "77/77 [==============================] - 0s 3ms/step - loss: 0.5694 - accuracy: 0.6901\n",
      "Epoch 124/150\n",
      "77/77 [==============================] - 0s 3ms/step - loss: 0.5684 - accuracy: 0.6888\n",
      "Epoch 125/150\n",
      "77/77 [==============================] - 0s 3ms/step - loss: 0.5593 - accuracy: 0.6888\n",
      "Epoch 126/150\n",
      "77/77 [==============================] - 0s 3ms/step - loss: 0.5675 - accuracy: 0.6862\n",
      "Epoch 127/150\n",
      "77/77 [==============================] - 0s 3ms/step - loss: 0.5660 - accuracy: 0.6901\n",
      "Epoch 128/150\n",
      "77/77 [==============================] - 0s 4ms/step - loss: 0.5617 - accuracy: 0.6875\n",
      "Epoch 129/150\n",
      "77/77 [==============================] - 0s 3ms/step - loss: 0.5581 - accuracy: 0.6901\n",
      "Epoch 130/150\n",
      "77/77 [==============================] - 0s 3ms/step - loss: 0.5682 - accuracy: 0.6849\n",
      "Epoch 131/150\n",
      "77/77 [==============================] - 0s 3ms/step - loss: 0.5640 - accuracy: 0.6914\n",
      "Epoch 132/150\n",
      "77/77 [==============================] - 0s 3ms/step - loss: 0.5601 - accuracy: 0.6836\n",
      "Epoch 133/150\n",
      "77/77 [==============================] - 0s 3ms/step - loss: 0.5656 - accuracy: 0.6914\n",
      "Epoch 134/150\n",
      "77/77 [==============================] - 0s 3ms/step - loss: 0.5634 - accuracy: 0.6862\n",
      "Epoch 135/150\n",
      "77/77 [==============================] - 0s 3ms/step - loss: 0.5641 - accuracy: 0.6888\n",
      "Epoch 136/150\n",
      "77/77 [==============================] - 0s 3ms/step - loss: 0.5611 - accuracy: 0.6940\n",
      "Epoch 137/150\n",
      "77/77 [==============================] - 0s 3ms/step - loss: 0.5571 - accuracy: 0.6797\n",
      "Epoch 138/150\n",
      "77/77 [==============================] - 0s 3ms/step - loss: 0.5600 - accuracy: 0.6823\n",
      "Epoch 139/150\n",
      "77/77 [==============================] - 0s 3ms/step - loss: 0.5617 - accuracy: 0.6836\n",
      "Epoch 140/150\n",
      "77/77 [==============================] - 0s 3ms/step - loss: 0.5614 - accuracy: 0.6849\n",
      "Epoch 141/150\n",
      "77/77 [==============================] - 0s 3ms/step - loss: 0.5525 - accuracy: 0.6810\n",
      "Epoch 142/150\n",
      "77/77 [==============================] - 0s 3ms/step - loss: 0.5521 - accuracy: 0.6875\n",
      "Epoch 143/150\n",
      "77/77 [==============================] - 0s 3ms/step - loss: 0.5595 - accuracy: 0.6875\n",
      "Epoch 144/150\n",
      "77/77 [==============================] - 0s 3ms/step - loss: 0.5626 - accuracy: 0.6797\n",
      "Epoch 145/150\n",
      "77/77 [==============================] - 0s 3ms/step - loss: 0.5573 - accuracy: 0.6901\n",
      "Epoch 146/150\n",
      "77/77 [==============================] - 0s 3ms/step - loss: 0.5502 - accuracy: 0.6888\n",
      "Epoch 147/150\n",
      "77/77 [==============================] - 0s 4ms/step - loss: 0.5555 - accuracy: 0.6875\n",
      "Epoch 148/150\n",
      "77/77 [==============================] - 0s 3ms/step - loss: 0.5565 - accuracy: 0.6849\n",
      "Epoch 149/150\n",
      "77/77 [==============================] - 0s 3ms/step - loss: 0.5468 - accuracy: 0.7031\n",
      "Epoch 150/150\n",
      "77/77 [==============================] - 0s 3ms/step - loss: 0.5552 - accuracy: 0.7005\n"
     ]
    }
   ],
   "source": [
    "# when you fit, the model will learn\n",
    "# Set the Number of instances that are evaluated before a weight update in the network is performed, called the batch size.\n",
    "history = model.fit(X, Y, epochs=150, batch_size=10, verbose=1)"
   ]
  },
  {
   "cell_type": "markdown",
   "id": "0f1c771f",
   "metadata": {},
   "source": [
    "## Evaluate Model"
   ]
  },
  {
   "cell_type": "code",
   "execution_count": 14,
   "id": "5e3f9de7",
   "metadata": {},
   "outputs": [
    {
     "name": "stdout",
     "output_type": "stream",
     "text": [
      "24/24 [==============================] - 0s 3ms/step - loss: 0.5444 - accuracy: 0.6940\n",
      "accuracy: 69.40%\n"
     ]
    }
   ],
   "source": [
    "scores = model.evaluate(X,Y)\n",
    "print('%s: %.2f%%' % (model.metrics_names[1],scores[1]*100))"
   ]
  },
  {
   "cell_type": "code",
   "execution_count": 15,
   "id": "2d2ba838",
   "metadata": {},
   "outputs": [
    {
     "data": {
      "text/plain": [
       "Text(0, 0.5, 'Cross Entropy Loss')"
      ]
     },
     "execution_count": 15,
     "metadata": {},
     "output_type": "execute_result"
    },
    {
     "data": {
      "image/png": "[encoded data removed]",
      "text/plain": [
       "<Figure size 432x288 with 1 Axes>"
      ]
     },
     "metadata": {
      "needs_background": "light"
     },
     "output_type": "display_data"
    }
   ],
   "source": [
    "# plot history\n",
    "import matplotlib.pyplot as plt\n",
    "plt.plot(history.history['loss'], label='binary cross entropy loss')\n",
    "plt.xlabel('Epoch Number')\n",
    "plt.ylabel('Cross Entropy Loss')\n"
   ]
  },
  {
   "cell_type": "code",
   "execution_count": 16,
   "id": "17f57a82",
   "metadata": {},
   "outputs": [
    {
     "data": {
      "text/plain": [
       "Text(0, 0.5, 'Accuracy')"
      ]
     },
     "execution_count": 16,
     "metadata": {},
     "output_type": "execute_result"
    },
    {
     "data": {
      "image/png": "[encoded data removed]",
      "text/plain": [
       "<Figure size 432x288 with 1 Axes>"
      ]
     },
     "metadata": {
      "needs_background": "light"
     },
     "output_type": "display_data"
    }
   ],
   "source": [
    "# plot history\n",
    "plt.plot(history.history['accuracy'], label='accuracy')\n",
    "plt.xlabel('Epoch Number')\n",
    "plt.ylabel('Accuracy')"
   ]
  },
  {
   "cell_type": "markdown",
   "id": "b02b480c",
   "metadata": {},
   "source": [
    "## Make predictions\n"
   ]
  },
  {
   "cell_type": "code",
   "execution_count": 17,
   "id": "5e295008",
   "metadata": {},
   "outputs": [
    {
     "name": "stdout",
     "output_type": "stream",
     "text": [
      "24/24 [==============================] - 0s 2ms/step\n",
      "[0, 0, 0, 0, 1, 0, 0, 0, 1, 0, 0, 0, 0, 1, 1, 0, 1, 0, 0, 0, 0, 0, 0, 0, 0, 1, 0, 0, 1, 0, 0, 1, 0, 0, 0, 1, 0, 0, 0, 1, 0, 0, 0, 1, 0, 0, 0, 0, 0, 0, 0, 0, 0, 1, 1, 0, 1, 0, 0, 0, 0, 0, 0, 1, 0, 0, 0, 0, 0, 0, 0, 1, 0, 0, 0, 0, 0, 0, 0, 0, 0, 0, 0, 0, 0, 0, 0, 0, 1, 0, 0, 0, 0, 0, 0, 1, 0, 0, 0, 1, 0, 0, 0, 0, 0, 1, 0, 1, 0, 0, 1, 1, 0, 0, 1, 0, 0, 0, 0, 0, 0, 0, 0, 0, 0, 1, 0, 0, 0, 0, 1, 0, 1, 0, 0, 0, 0, 0, 0, 1, 0, 0, 0, 0, 1, 0, 0, 0, 0, 0, 0, 0, 1, 0, 0, 0, 0, 0, 0, 1, 0, 0, 0, 0, 0, 0, 0, 0, 0, 0, 0, 0, 0, 0, 0, 1, 0, 0, 0, 0, 0, 0, 0, 0, 0, 0, 1, 0, 0, 1, 0, 0, 0, 0, 0, 1, 0, 0, 0, 1, 0, 0, 0, 0, 1, 0, 1, 0, 0, 0, 0, 0, 0, 0, 1, 1, 0, 0, 0, 0, 1, 0, 0, 1, 0, 0, 0, 0, 1, 0, 0, 1, 0, 0, 0, 0, 1, 0, 0, 0, 0, 0, 0, 1, 1, 0, 0, 0, 1, 0, 0, 0, 0, 0, 1, 0, 0, 0, 1, 1, 1, 0, 0, 0, 0, 0, 0, 0, 0, 0, 0, 0, 0, 0, 0, 0, 0, 0, 0, 0, 0, 0, 0, 0, 0, 1, 1, 0, 0, 0, 0, 0, 0, 1, 0, 1, 1, 0, 1, 0, 0, 1, 0, 0, 0, 0, 1, 0, 0, 0, 0, 0, 0, 0, 0, 0, 0, 0, 0, 0, 1, 0, 0, 0, 0, 1, 0, 0, 0, 0, 0, 0, 0, 0, 0, 1, 0, 0, 1, 0, 0, 0, 0, 0, 0, 0, 0, 0, 0, 0, 0, 0, 0, 0, 0, 0, 1, 0, 0, 1, 1, 0, 0, 0, 0, 0, 0, 0, 0, 0, 1, 0, 0, 0, 1, 1, 0, 0, 0, 0, 0, 0, 0, 0, 0, 0, 0, 0, 1, 0, 1, 0, 0, 0, 0, 1, 0, 0, 0, 0, 0, 0, 0, 0, 0, 1, 0, 0, 0, 1, 0, 0, 0, 0, 1, 0, 0, 0, 0, 0, 0, 0, 0, 0, 1, 1, 0, 1, 0, 0, 0, 0, 0, 0, 0, 0, 0, 0, 0, 0, 0, 0, 0, 0, 0, 0, 0, 0, 0, 0, 0, 0, 1, 0, 0, 0, 0, 0, 1, 0, 0, 0, 0, 0, 0, 0, 0, 0, 0, 0, 0, 0, 0, 0, 0, 0, 1, 0, 0, 0, 1, 0, 0, 0, 0, 1, 1, 1, 0, 0, 0, 0, 0, 0, 0, 0, 0, 0, 1, 1, 0, 0, 0, 0, 0, 0, 0, 1, 0, 0, 0, 0, 0, 0, 0, 0, 1, 0, 0, 0, 0, 0, 0, 0, 0, 0, 0, 0, 0, 0, 0, 0, 0, 0, 0, 0, 0, 0, 0, 0, 1, 0, 0, 0, 0, 1, 1, 1, 0, 0, 0, 0, 0, 0, 0, 1, 0, 0, 0, 0, 0, 1, 0, 0, 0, 0, 0, 0, 0, 0, 0, 0, 0, 0, 0, 0, 1, 0, 0, 0, 0, 0, 0, 0, 1, 0, 0, 0, 0, 0, 0, 0, 0, 0, 1, 1, 0, 0, 0, 1, 0, 0, 0, 0, 0, 0, 1, 0, 0, 0, 0, 1, 1, 0, 1, 0, 0, 0, 0, 0, 0, 0, 0, 0, 0, 0, 0, 0, 0, 0, 0, 0, 0, 0, 0, 0, 0, 0, 0, 0, 0, 0, 0, 0, 0, 1, 0, 1, 1, 0, 0, 0, 0, 0, 0, 1, 0, 0, 0, 0, 0, 0, 1, 1, 0, 0, 0, 0, 1, 0, 1, 0, 0, 0, 0, 0, 0, 0, 0, 0, 0, 0, 0, 0, 0, 0, 0, 0, 1, 0, 0, 0, 0, 1, 0, 0, 0, 0, 0, 0, 0, 0, 0, 0, 0, 0, 0, 1, 0, 0, 0, 0, 0, 0, 0, 1, 1, 0, 1, 0, 0, 0, 0, 0, 0, 0, 0, 0, 0, 0, 0, 0, 0, 0, 0, 0, 0, 0, 0, 0, 1, 0, 0, 0, 1, 0, 0, 0, 1, 0, 0, 0, 0, 0, 0, 0, 0, 0, 0, 0, 0, 0, 0, 1, 0, 0, 0, 0]\n"
     ]
    }
   ],
   "source": [
    "# calculate predictions\n",
    "predictions = model.predict(X)\n",
    "\n",
    "# round predictions\n",
    "rounded = [round(x[0]) for x in predictions]\n",
    "print(rounded)"
   ]
  },
  {
   "cell_type": "code",
   "execution_count": null,
   "id": "a26b2b8d",
   "metadata": {},
   "outputs": [],
   "source": []
  }
 ],
 "metadata": {
  "kernelspec": {
   "display_name": "Python 3 (ipykernel)",
   "language": "python",
   "name": "python3"
  },
  "language_info": {
   "codemirror_mode": {
    "name": "ipython",
    "version": 3
   },
   "file_extension": ".py",
   "mimetype": "text/x-python",
   "name": "python",
   "nbconvert_exporter": "python",
   "pygments_lexer": "ipython3",
   "version": "3.9.12"
  }
 },
 "nbformat": 4,
 "nbformat_minor": 5
}
