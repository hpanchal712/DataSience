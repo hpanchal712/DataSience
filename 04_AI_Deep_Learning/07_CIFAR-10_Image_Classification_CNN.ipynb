{
 "cells": [
  {
   "cell_type": "code",
   "execution_count": null,
   "id": "84291a80",
   "metadata": {},
   "outputs": [],
   "source": [
    "# padding ='valid' ==> meaning input and output are of same size\n",
    "# padding ='valid' ==> meaning input and output can be of different size"
   ]
  }
 ],
 "metadata": {
  "kernelspec": {
   "display_name": "Python 3 (ipykernel)",
   "language": "python",
   "name": "python3"
  },
  "language_info": {
   "codemirror_mode": {
    "name": "ipython",
    "version": 3
   },
   "file_extension": ".py",
   "mimetype": "text/x-python",
   "name": "python",
   "nbconvert_exporter": "python",
   "pygments_lexer": "ipython3",
   "version": "3.9.12"
  }
 },
 "nbformat": 4,
 "nbformat_minor": 5
}
